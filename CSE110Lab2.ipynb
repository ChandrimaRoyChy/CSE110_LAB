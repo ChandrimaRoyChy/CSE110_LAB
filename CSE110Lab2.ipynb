{
  "cells": [
    {
      "cell_type": "code",
      "execution_count": null,
      "metadata": {
        "colab": {
          "base_uri": "https://localhost:8080/"
        },
        "id": "Q2bePt_R5xA9",
        "outputId": "e4e1c641-794a-4c56-9a85-4246543a9cd1"
      },
      "outputs": [
        {
          "name": "stdout",
          "output_type": "stream",
          "text": [
            "24, 18, 12, 6, 0, -6"
          ]
        }
      ],
      "source": [
        "#1\n",
        "# a) 24, 18, 12, 6, 0, -6\n",
        "counter=24\n",
        "while counter >= -6:\n",
        "  if counter == -6:\n",
        "    print(counter, end = \"\")\n",
        "  else:\n",
        "    print(counter, end = \", \")\n",
        "  counter = counter - 6"
      ]
    },
    {
      "cell_type": "code",
      "execution_count": null,
      "metadata": {
        "colab": {
          "base_uri": "https://localhost:8080/"
        },
        "id": "xoaH2ekW9qUq",
        "outputId": "7beb77e8-1a15-454d-f11a-45db469276bc"
      },
      "outputs": [
        {
          "name": "stdout",
          "output_type": "stream",
          "text": [
            "-10, -5, 0, 5, 10, 15, 20"
          ]
        }
      ],
      "source": [
        "# b)-10, -5, 0, 5, 10, 15, 20\n",
        "counter=-10\n",
        "while counter<=20:\n",
        "\n",
        "  if counter==20:\n",
        "    print(counter,end=\"\")\n",
        "  else:\n",
        "    print(counter,end=\", \")\n",
        "\n",
        "  counter+=5 "
      ]
    },
    {
      "cell_type": "code",
      "execution_count": null,
      "metadata": {
        "colab": {
          "base_uri": "https://localhost:8080/"
        },
        "id": "tMqBmM0B9ycj",
        "outputId": "08d213ca-7767-4522-8653-c596fc8dc9d1"
      },
      "outputs": [
        {
          "name": "stdout",
          "output_type": "stream",
          "text": [
            "18, 27, 36, 45, 54, 63"
          ]
        }
      ],
      "source": [
        "#c) 18, 27, 36, 45, 54, 63\n",
        "counter=18\n",
        "while counter<=63:\n",
        "\n",
        "  if counter==63:\n",
        "    print(counter,end=\"\")\n",
        "  else:\n",
        "    print(counter,end=\", \")\n",
        "\n",
        "  counter+=9"
      ]
    },
    {
      "cell_type": "code",
      "execution_count": null,
      "metadata": {
        "colab": {
          "base_uri": "https://localhost:8080/"
        },
        "id": "5O0CMRYT-JSJ",
        "outputId": "4682fe11-c02c-40f3-cee6-4cac3f67f918"
      },
      "outputs": [
        {
          "name": "stdout",
          "output_type": "stream",
          "text": [
            "18,-27, 36,-45, 54,-63\n"
          ]
        }
      ],
      "source": [
        "#d) 18, -27, 36, -45, 54, -63\n",
        "counter=18\n",
        "while counter<=63:\n",
        "\n",
        "  if counter%2==0:\n",
        "    print(counter,end=\",\")\n",
        "  elif counter==63:\n",
        "    print(-63)\n",
        "  else:\n",
        "    print(counter*(-1),end=\", \")\n",
        "\n",
        "  counter+=9"
      ]
    },
    {
      "cell_type": "code",
      "execution_count": null,
      "metadata": {
        "colab": {
          "base_uri": "https://localhost:8080/"
        },
        "id": "aZAR0wpD_RPc",
        "outputId": "9d303251-678d-4cc0-c2c5-c68be555db7f"
      },
      "outputs": [
        {
          "name": "stdout",
          "output_type": "stream",
          "text": [
            "Enter the name of your favorite car:Veyron\n",
            "Enter a Number:5\n",
            "Veyron\n",
            "Veyron\n",
            "Veyron\n",
            "Veyron\n",
            "Veyron\n"
          ]
        }
      ],
      "source": [
        "#2\n",
        "name=input(\"Enter the name of your favorite car:\")\n",
        "num=int(input(\"Enter a Number:\"))\n",
        "\n",
        "for count in range(num):\n",
        "  print(name)"
      ]
    },
    {
      "cell_type": "code",
      "execution_count": null,
      "metadata": {
        "colab": {
          "base_uri": "https://localhost:8080/"
        },
        "id": "na0e3N52CEBF",
        "outputId": "a5db3caf-d118-4c8b-8408-ce8c912f3c75"
      },
      "outputs": [
        {
          "name": "stdout",
          "output_type": "stream",
          "text": [
            "2835\n"
          ]
        }
      ],
      "source": [
        "#3\n",
        "sum=0\n",
        "for num in range(7,601):\n",
        "  if num%7==0 and num%9==0:\n",
        "    sum+=num\n",
        "print(sum)"
      ]
    },
    {
      "cell_type": "code",
      "execution_count": null,
      "metadata": {
        "colab": {
          "base_uri": "https://localhost:8080/"
        },
        "id": "ijrkDWXzDJPt",
        "outputId": "f85cfe47-7992-4a11-d636-bbb1d3abe4a2"
      },
      "outputs": [
        {
          "output_type": "stream",
          "name": "stdout",
          "text": [
            "39814\n"
          ]
        }
      ],
      "source": [
        "#4\n",
        "sum=0\n",
        "for num in range(7,601):\n",
        "  if num%7==0 or num%9==0:\n",
        "    sum+=num\n",
        "  if num%7==0 and num%9==0:\n",
        "    sum-=num\n",
        "print(sum)"
      ]
    },
    {
      "cell_type": "code",
      "execution_count": null,
      "metadata": {
        "colab": {
          "base_uri": "https://localhost:8080/"
        },
        "id": "94QIC56JE00x",
        "outputId": "3d55cba0-8401-403b-b818-9db55e400d71"
      },
      "outputs": [
        {
          "name": "stdout",
          "output_type": "stream",
          "text": [
            "11 13 15 17 19 21 23 25 27 29 31 33 35 37 39 41 43 45 47 49 "
          ]
        }
      ],
      "source": [
        "#5\n",
        "for num in range(10,51):\n",
        "  if num%2!=0:\n",
        "    print(num,end=' ')"
      ]
    },
    {
      "cell_type": "code",
      "execution_count": null,
      "metadata": {
        "colab": {
          "base_uri": "https://localhost:8080/"
        },
        "id": "Q0w4p3IyF8NW",
        "outputId": "043489dc-ec37-4a04-faf0-2eaf7c0a6bba"
      },
      "outputs": [
        {
          "name": "stdout",
          "output_type": "stream",
          "text": [
            "Enter the value of n:20\n",
            "-210\n"
          ]
        }
      ],
      "source": [
        "#6\n",
        "n=int(input(\"Enter the value of n:\"))\n",
        "y=0\n",
        "\n",
        "for num in range(n+1):\n",
        "  if num%2==0:\n",
        "    y-=num**2\n",
        "  else:\n",
        "    y+=num**2\n",
        "print(y)"
      ]
    },
    {
      "cell_type": "code",
      "execution_count": null,
      "metadata": {
        "colab": {
          "base_uri": "https://localhost:8080/"
        },
        "id": "rAtDP2cHH0-r",
        "outputId": "4a048900-f7fa-449e-eb55-632c2a415993"
      },
      "outputs": [
        {
          "name": "stdout",
          "output_type": "stream",
          "text": [
            "Enter the numbers:-20\n",
            "Enter the numbers:13\n",
            "Enter the numbers:-5\n",
            "Enter the numbers:40\n",
            "Enter the numbers:-17\n",
            "Enter the numbers:10\n",
            "Enter the numbers:20\n",
            "Enter the numbers:-8\n",
            "Enter the numbers:99\n",
            "Enter the numbers:-200\n",
            "The total of the odd numbers is 90 and their average is 22.5\n"
          ]
        }
      ],
      "source": [
        "#7\n",
        "sum=0\n",
        "counter=0\n",
        "for num in range(10):\n",
        "  number=int(input(\"Enter the numbers:\"))\n",
        "  if number%2!=0:\n",
        "    sum+=number\n",
        "    counter+=1\n",
        "\n",
        "if counter!=0:\n",
        "  avarage=sum/counter\n",
        "\n",
        "print(\"The total of the odd numbers is\",sum,\"and their average is\",avarage)"
      ]
    },
    {
      "cell_type": "code",
      "execution_count": null,
      "metadata": {
        "colab": {
          "base_uri": "https://localhost:8080/"
        },
        "id": "Kq6btc2XLeyl",
        "outputId": "c7448f0c-2b79-4a1f-9344-e38680be926e"
      },
      "outputs": [
        {
          "output_type": "stream",
          "name": "stdout",
          "text": [
            "Enter the value of N:50\n",
            "196\n"
          ]
        }
      ],
      "source": [
        "#8\n",
        "n=int(input(\"Enter the value of N:\"))\n",
        "sum=0\n",
        "for num in range(n+1):\n",
        "  if num%7==0:\n",
        "    sum+=num\n",
        "print(sum)"
      ]
    },
    {
      "cell_type": "code",
      "metadata": {
        "id": "FCwYrfGGSK5w",
        "colab": {
          "base_uri": "https://localhost:8080/"
        },
        "outputId": "637bf130-b58c-49ed-d47f-038427b35ceb"
      },
      "source": [
        "#9\n",
        "sum=0\n",
        "for number in range(5):\n",
        "  number=int(input(\"Please,enter a number:\"))\n",
        "  sum+=number\n",
        "  print(sum)  "
      ],
      "execution_count": null,
      "outputs": [
        {
          "output_type": "stream",
          "name": "stdout",
          "text": [
            "Please,enter a number:1\n",
            "1\n",
            "Please,enter a number:2\n",
            "3\n",
            "Please,enter a number:3\n",
            "6\n",
            "Please,enter a number:4\n",
            "10\n",
            "Please,enter a number:5\n",
            "15\n"
          ]
        }
      ]
    },
    {
      "cell_type": "code",
      "execution_count": null,
      "metadata": {
        "colab": {
          "base_uri": "https://localhost:8080/"
        },
        "id": "aEdmiFquTjBK",
        "outputId": "25cc9453-aee2-4192-aeb1-a0e432171c43"
      },
      "outputs": [
        {
          "output_type": "stream",
          "name": "stdout",
          "text": [
            "Enter the number:32768\n",
            "8,6,7,2,3\n"
          ]
        }
      ],
      "source": [
        "#10\n",
        "number=int(input(\"Enter the number:\"))\n",
        "count=0\n",
        "while number!=0:\n",
        "  if number>9:\n",
        "    print(number%10,end=\",\")\n",
        "  else:\n",
        "    print(number)\n",
        "  count+=1\n",
        "  number=number//10"
      ]
    },
    {
      "cell_type": "code",
      "execution_count": null,
      "metadata": {
        "colab": {
          "base_uri": "https://localhost:8080/"
        },
        "id": "N38CYYopVFw8",
        "outputId": "53695dec-0231-40cb-f15c-fa251694997d"
      },
      "outputs": [
        {
          "output_type": "stream",
          "name": "stdout",
          "text": [
            "Enter the number:9876\n",
            "4\n"
          ]
        }
      ],
      "source": [
        "#11\n",
        "number=int(input(\"Enter the number:\"))\n",
        "count=0\n",
        "while number!=0:\n",
        "  number=number//10\n",
        "  count+=1\n",
        "print(count)"
      ]
    },
    {
      "cell_type": "code",
      "execution_count": null,
      "metadata": {
        "colab": {
          "base_uri": "https://localhost:8080/"
        },
        "id": "8NIWWD3ocXNx",
        "outputId": "56e4c0c6-e989-4602-9f96-2adc255764c7"
      },
      "outputs": [
        {
          "output_type": "stream",
          "name": "stdout",
          "text": [
            "Enter a number:32768\n",
            "3,2,7,6,8\n"
          ]
        }
      ],
      "source": [
        "#12\n",
        "num1=int(input(\"Enter a number:\"))\n",
        "num2=num1\n",
        "count=0\n",
        "while num1!=0:\n",
        "  num1//=10\n",
        "  count+=1\n",
        "division=10**(count-1)\n",
        "while division>0:\n",
        "  x=num2//division\n",
        "  num2=num2%division\n",
        "  division=division//10\n",
        "\n",
        "  if division==0:\n",
        "    print(x)\n",
        "  else:\n",
        "    print(x,end=\",\")"
      ]
    },
    {
      "cell_type": "code",
      "metadata": {
        "id": "aFSd6sYXSK6A",
        "colab": {
          "base_uri": "https://localhost:8080/"
        },
        "outputId": "2361aa25-cb1f-450e-d10d-1d13e9d1e55c"
      },
      "source": [
        "#13\n",
        "num=int(input(\"Please,enter a number:\"))\n",
        "counter=0\n",
        "for count in range(1,num+1):\n",
        "  if num%count==0:\n",
        "    if count==num:\n",
        "      print(count)\n",
        "    else:\n",
        "      print(count,end=\",\")\n",
        "    counter+=1\n",
        "print(\"Total\",counter,\"divisors\")        "
      ],
      "execution_count": null,
      "outputs": [
        {
          "output_type": "stream",
          "name": "stdout",
          "text": [
            "Please,enter a number:6\n",
            "1,2,3,6\n",
            "Total 4 divisors\n"
          ]
        }
      ]
    },
    {
      "cell_type": "code",
      "metadata": {
        "id": "WxrTdQ67SK6E",
        "colab": {
          "base_uri": "https://localhost:8080/"
        },
        "outputId": "afff213f-dbdf-4e57-8093-a0db01a34f7e"
      },
      "source": [
        "#14\n",
        "num=int(input(\"Please,enter a number:\"))\n",
        "result=0\n",
        "for count in range(1,num):\n",
        "  if num%count==0:\n",
        "    result=result+count\n",
        "if result==num:\n",
        "  print(num,\"is a perfect number\")\n",
        "else:\n",
        "  print(num,\"is not a perfect number\")     "
      ],
      "execution_count": null,
      "outputs": [
        {
          "output_type": "stream",
          "name": "stdout",
          "text": [
            "Please,enter a number:33\n",
            "33 is not a perfect number\n"
          ]
        }
      ]
    },
    {
      "cell_type": "code",
      "metadata": {
        "id": "s_UhmEARSK6I",
        "colab": {
          "base_uri": "https://localhost:8080/"
        },
        "outputId": "a8e08b65-bdc8-4e25-d181-91ac928ca228"
      },
      "source": [
        "#15\n",
        "num=int(input(\"Please,enter a number:\"))\n",
        "count=0\n",
        "if num>1:\n",
        "  for x in range(2,num):\n",
        "    if(num%x==0):\n",
        "      count+=1\n",
        "      print(num,\"is not a prime number\")\n",
        "\n",
        "      break    \n",
        "  else:\n",
        "    print(num,\"is a prime number\")  "
      ],
      "execution_count": null,
      "outputs": [
        {
          "output_type": "stream",
          "name": "stdout",
          "text": [
            "Please,enter a number:11\n",
            "11 is a prime number\n"
          ]
        }
      ]
    },
    {
      "cell_type": "code",
      "metadata": {
        "id": "TK68v25sSK6L",
        "colab": {
          "base_uri": "https://localhost:8080/"
        },
        "outputId": "02fd844a-a5e0-402a-e53f-9c2d2edf25fc"
      },
      "source": [
        "#16\n",
        "number=int(input(\"Please,enter a number:\"))\n",
        "maximum=0\n",
        "minimum=0\n",
        "sum=0\n",
        "avarage=0\n",
        "\n",
        "for x in range(number):\n",
        "  num=int(input(\"Please,enter a number:\"))\n",
        "  sum+=num\n",
        "  if num>maximum:\n",
        "    maximum=num\n",
        "  elif num<minimum:\n",
        "    minimum=num\n",
        "\n",
        "avarage=sum/number\n",
        "print(\"Maximum\",maximum)\n",
        "print(\"Minimum\",minimum)\n",
        "print(\"Avarage is\",avarage)\n"
      ],
      "execution_count": null,
      "outputs": [
        {
          "output_type": "stream",
          "name": "stdout",
          "text": [
            "Please,enter a number:5\n",
            "Please,enter a number:10\n",
            "Please,enter a number:4\n",
            "Please,enter a number:-1\n",
            "Please,enter a number:-100\n",
            "Please,enter a number:1\n",
            "Maximum 10\n",
            "Minimum -100\n",
            "Avarage is -17.2\n"
          ]
        }
      ]
    },
    {
      "cell_type": "code",
      "metadata": {
        "id": "nuU0BJmQwsSa",
        "colab": {
          "base_uri": "https://localhost:8080/"
        },
        "outputId": "8dc0fece-c797-4430-d917-88e448f45992"
      },
      "source": [
        "#17\n",
        "N=int(input(\"Please,enter a number:\"))\n",
        "for x in range(1,N+1):\n",
        "  for y in range(1,N+1):\n",
        "    print(\"+\",end=\"\")\n",
        "  print()"
      ],
      "execution_count": null,
      "outputs": [
        {
          "output_type": "stream",
          "name": "stdout",
          "text": [
            "Please,enter a number:3\n",
            "+++\n",
            "+++\n",
            "+++\n"
          ]
        }
      ]
    },
    {
      "cell_type": "code",
      "metadata": {
        "id": "KcyhD8gNxYdi",
        "colab": {
          "base_uri": "https://localhost:8080/"
        },
        "outputId": "220a058f-75b4-4185-acf3-b6303d82d945"
      },
      "source": [
        "#18\n",
        "M=int(input(\"Please,enter the value of M:\"))\n",
        "N=int(input(\"Please,enter the value of N:\"))\n",
        "for x in range(1,M+1):\n",
        "  for y in range(1,N+1):\n",
        "    print(y,end=\"\")\n",
        "  print()"
      ],
      "execution_count": null,
      "outputs": [
        {
          "output_type": "stream",
          "name": "stdout",
          "text": [
            "Please,enter the value of M:3\n",
            "Please,enter the value of N:2\n",
            "12\n",
            "12\n",
            "12\n"
          ]
        }
      ]
    },
    {
      "cell_type": "code",
      "metadata": {
        "id": "UtqBxocnxai9",
        "colab": {
          "base_uri": "https://localhost:8080/"
        },
        "outputId": "c946999c-5587-4e9b-a209-528ce44a0fa9"
      },
      "source": [
        "#19\n",
        "N=int(input(\"Please,enter a number:\"))\n",
        "\n",
        "for x in range(1,N+1):\n",
        "  for y in range(1,x+1):\n",
        "    print(y,end='')\n",
        "  print() "
      ],
      "execution_count": null,
      "outputs": [
        {
          "output_type": "stream",
          "name": "stdout",
          "text": [
            "Please,enter a number:5\n",
            "1\n",
            "12\n",
            "123\n",
            "1234\n",
            "12345\n"
          ]
        }
      ]
    },
    {
      "cell_type": "code",
      "source": [
        "#20\n",
        "x = 0\n",
        "p =0\n",
        "sum = 0\n",
        "p = 1\n",
        "x = 2\n",
        "q = None\n",
        "sum = 0\n",
        "while p < 12:\n",
        "  q = x + p - (sum + 7 / 3) / 3.0 % 2\n",
        "  sum = sum + x + int(q)\n",
        "  x += 1\n",
        "  print(sum)\n",
        "  if x > 5:\n",
        "    p += 4 / 2\n",
        "  else:\n",
        "    p += (3 % 1)\n",
        "sum = int(sum + p)\n",
        "print(sum)"
      ],
      "metadata": {
        "colab": {
          "base_uri": "https://localhost:8080/"
        },
        "id": "ZegF_HNMPkvw",
        "outputId": "476f0b65-1907-4b93-e025-a02f5fc368e5"
      },
      "execution_count": null,
      "outputs": [
        {
          "output_type": "stream",
          "name": "stdout",
          "text": [
            "4\n",
            "10\n",
            "18\n",
            "28\n",
            "42\n",
            "60\n",
            "82\n",
            "108\n",
            "138\n",
            "151\n"
          ]
        }
      ]
    },
    {
      "cell_type": "code",
      "source": [
        "#21\n",
        "x = 0\n",
        "p = 0\n",
        "sum = 0\n",
        "p = 1\n",
        "x = 2\n",
        "q = 0.0\n",
        "sum = 0\n",
        "while (p < 10) :\n",
        "  q = x + p - (sum + int(5 / 3)) / 3.0 % 2\n",
        "  sum = sum + x + int(q)\n",
        "  x += 1\n",
        "  print(sum)\n",
        "  if (x > 5) :\n",
        "    p += int(4 / 2)\n",
        "  else :\n",
        "    p += 3 % 1\n",
        "sum = sum + p\n",
        "print(sum)"
      ],
      "metadata": {
        "colab": {
          "base_uri": "https://localhost:8080/"
        },
        "id": "U-An-uydQPtR",
        "outputId": "e812f947-fe11-421e-d0c5-ead7284c57c1"
      },
      "execution_count": null,
      "outputs": [
        {
          "output_type": "stream",
          "name": "stdout",
          "text": [
            "4\n",
            "9\n",
            "16\n",
            "25\n",
            "39\n",
            "56\n",
            "78\n",
            "104\n",
            "115\n"
          ]
        }
      ]
    },
    {
      "cell_type": "code",
      "source": [
        "#22\n",
        "x = y = 0\n",
        "sum = 0\n",
        "while (x < 10):\n",
        "  y = x - 3\n",
        "  while (y < 3):\n",
        "    sum = x - y * 2\n",
        "    print(sum)\n",
        "    y = y + 1\n",
        "  if (x > 7):\n",
        "    x += 1\n",
        "  else:\n",
        "    x += 3\n",
        "sum = x - y * 2\n",
        "print(sum)"
      ],
      "metadata": {
        "colab": {
          "base_uri": "https://localhost:8080/"
        },
        "id": "AztO7LESQ1iT",
        "outputId": "d0e4d623-6d0d-4afe-c49e-8fb18ef89638"
      },
      "execution_count": null,
      "outputs": [
        {
          "output_type": "stream",
          "name": "stdout",
          "text": [
            "6\n",
            "4\n",
            "2\n",
            "0\n",
            "-2\n",
            "-4\n",
            "3\n",
            "1\n",
            "-1\n",
            "-2\n"
          ]
        }
      ]
    },
    {
      "cell_type": "code",
      "source": [
        "#23\n",
        "x = 0\n",
        "y = 0\n",
        "sum = 0\n",
        "p = 0.0\n",
        "while (x < 10):\n",
        "  y = x // 2\n",
        "  while (y < x):\n",
        "    p = (x + 10.0) / 2\n",
        "    sum = (sum % 2) + x - y * 2 + int(p)\n",
        "    print(sum)\n",
        "    y = y + 2\n",
        "  if (x > 5):\n",
        "    x += 1\n",
        "  else:\n",
        "    x += 2"
      ],
      "metadata": {
        "colab": {
          "base_uri": "https://localhost:8080/"
        },
        "id": "bRTJNN0BRZWB",
        "outputId": "b61f9f42-be27-4e31-ffef-ab2d65dfff93"
      },
      "execution_count": null,
      "outputs": [
        {
          "output_type": "stream",
          "name": "stdout",
          "text": [
            "6\n",
            "7\n",
            "9\n",
            "5\n",
            "10\n",
            "5\n",
            "10\n",
            "5\n",
            "11\n",
            "7\n",
            "3\n"
          ]
        }
      ]
    },
    {
      "cell_type": "code",
      "source": [
        "#24\n",
        "test = 1\n",
        "j = 0\n",
        "k = 100\n",
        "while (k > 0):\n",
        "  while ( j < k ):\n",
        "    test = k + j -21\n",
        "    print(str(1 + int (test / 2)))\n",
        "    j += 10\n",
        "  k -= 10\n",
        "test = 1\n",
        "j = 0\n",
        "k = 100"
      ],
      "metadata": {
        "colab": {
          "base_uri": "https://localhost:8080/"
        },
        "id": "4_147To2Slmp",
        "outputId": "583c82ca-0368-4a76-c72f-f5ca5c473fff"
      },
      "execution_count": null,
      "outputs": [
        {
          "output_type": "stream",
          "name": "stdout",
          "text": [
            "40\n",
            "45\n",
            "50\n",
            "55\n",
            "60\n",
            "65\n",
            "70\n",
            "75\n",
            "80\n",
            "85\n"
          ]
        }
      ]
    },
    {
      "cell_type": "markdown",
      "source": [
        "UNGRADED"
      ],
      "metadata": {
        "id": "hYHjlHfwLZGT"
      }
    },
    {
      "cell_type": "code",
      "source": [
        "#25\n",
        "N=int(input(\"Please,enter a number:\"))\n",
        "x=0\n",
        "y=1\n",
        "print(x,end=\" \")\n",
        "print(y,end=\" \")\n",
        "\n",
        "for num in range(2,N+1):\n",
        "    if x+y<N:\n",
        "      z=x+y\n",
        "      print(z,end=\" \")\n",
        "      x=y\n",
        "      y=z"
      ],
      "metadata": {
        "colab": {
          "base_uri": "https://localhost:8080/"
        },
        "id": "fH0ih5p0rMHN",
        "outputId": "dbbe9224-b151-45db-a13c-bb93de656c76"
      },
      "execution_count": null,
      "outputs": [
        {
          "output_type": "stream",
          "name": "stdout",
          "text": [
            "Please,enter a number:10\n",
            "0 1 1 2 3 5 8 "
          ]
        }
      ]
    },
    {
      "cell_type": "code",
      "source": [
        "#26\n",
        "deci_num=int(input(\"Please,enter the number:\"))\n",
        "remainder=bi_num=count=0\n",
        "\n",
        "while deci_num>0:\n",
        "  remainder=deci_num%2\n",
        "  bi_num+=(remainder*(10**count))\n",
        "\n",
        "  deci_num//=2\n",
        "  count+=1\n",
        "\n",
        "print(bi_num)"
      ],
      "metadata": {
        "id": "uvDN46wLWwXP",
        "colab": {
          "base_uri": "https://localhost:8080/"
        },
        "outputId": "016cc218-8113-4129-c32b-001bcbc0e4dc"
      },
      "execution_count": null,
      "outputs": [
        {
          "output_type": "stream",
          "name": "stdout",
          "text": [
            "Please,enter the number:13\n",
            "1101\n"
          ]
        }
      ]
    },
    {
      "cell_type": "code",
      "source": [
        "#27\n",
        "bi_num=int(input(\"Please,enter the number:\"))\n",
        "deci_num=count=0\n",
        "\n",
        "while bi_num>0:\n",
        "  deci_num+=(bi_num%10)*(2**count)\n",
        "  bi_num//=10\n",
        "  count+=1\n",
        "\n",
        "print(deci_num)"
      ],
      "metadata": {
        "colab": {
          "base_uri": "https://localhost:8080/"
        },
        "id": "Fnw4ZaqSYDZb",
        "outputId": "9fc74db0-ed53-42c3-ea15-4ea0b3d1ced1"
      },
      "execution_count": null,
      "outputs": [
        {
          "output_type": "stream",
          "name": "stdout",
          "text": [
            "Please,enter the number:11101\n",
            "29\n"
          ]
        }
      ]
    },
    {
      "cell_type": "code",
      "source": [
        "#28\n",
        "start=int(input(\"Please,enter the starting number:\"))\n",
        "end=int(input(\"Please,enter the ending number:\"))\n",
        "prime=perfect=\"\"\n",
        "prime_count=perfect_count=0\n",
        "\n",
        "for x in range(start,end+1):\n",
        "  add=0\n",
        "  for y in range(1,x):\n",
        "    if x%y==0:\n",
        "      add+=y\n",
        "  if add==x:\n",
        "    perfect+=f\"{str(x)},\"\n",
        "    perfect_count+=1\n",
        "  \n",
        "  statement=False\n",
        "  for z in range(2,x):\n",
        "    if x%z==0:\n",
        "      statement=True\n",
        "      break\n",
        "    else:\n",
        "      statement=False\n",
        "  \n",
        "  if statement==False:\n",
        "      prime+=f\"{str(x)},\"\n",
        "      prime_count+=1\n",
        "\n",
        "\n",
        "print(f\"Between {start} and {end}\\nFound {prime_count} prime numbers\\nFound {perfect_count} perfect number\\nPrime numbers:{prime}\\nPerfect number: {perfect}\")\n"
      ],
      "metadata": {
        "colab": {
          "base_uri": "https://localhost:8080/"
        },
        "id": "PSZ0QHZqljsh",
        "outputId": "057aa9de-e6b9-4b8e-b89d-159a240dde36"
      },
      "execution_count": 8,
      "outputs": [
        {
          "output_type": "stream",
          "name": "stdout",
          "text": [
            "Please,enter the starting number:2\n",
            "Please,enter the ending number:6\n",
            "Between 2 and 6\n",
            "Found 3 prime numbers\n",
            "Found 1 perfect number\n",
            "Prime numbers:2,3,5,\n",
            "Perfect number: 6,\n"
          ]
        }
      ]
    },
    {
      "cell_type": "code",
      "source": [
        "#29\n",
        "start=int(input(\"Please,enter the starting number:\"))\n",
        "end=int(input(\"Please,enter the ending number:\"))\n",
        "divisor=int(input(\"Please, enter the number for checking:\"))\n",
        "\n",
        "\n",
        "for i in range(start,end+1):\n",
        "   dummy=i\n",
        "   final=1\n",
        "\n",
        "   while dummy>0:\n",
        "     final*=(dummy%10)\n",
        "     dummy//=10\n",
        "\n",
        "   if final%divisor==0:\n",
        "    print(final,end=\" \")"
      ],
      "metadata": {
        "colab": {
          "base_uri": "https://localhost:8080/"
        },
        "id": "HkrW_HPjZnMK",
        "outputId": "227e0a70-8074-4e45-a924-0a07052c62f7"
      },
      "execution_count": null,
      "outputs": [
        {
          "output_type": "stream",
          "name": "stdout",
          "text": [
            "Please,enter the starting number:351\n",
            "Please,enter the ending number:356\n",
            "Please, enter the number for checking:9\n",
            "45 90 "
          ]
        }
      ]
    }
  ],
  "metadata": {
    "colab": {
      "provenance": []
    },
    "kernelspec": {
      "display_name": "Python 3",
      "name": "python3"
    },
    "language_info": {
      "name": "python"
    }
  },
  "nbformat": 4,
  "nbformat_minor": 0
}