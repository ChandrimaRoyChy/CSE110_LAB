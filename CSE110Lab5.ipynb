{
  "nbformat": 4,
  "nbformat_minor": 0,
  "metadata": {
    "colab": {
      "provenance": []
    },
    "kernelspec": {
      "name": "python3",
      "display_name": "Python 3"
    },
    "language_info": {
      "name": "python"
    }
  },
  "cells": [
    {
      "cell_type": "code",
      "execution_count": null,
      "metadata": {
        "colab": {
          "base_uri": "https://localhost:8080/"
        },
        "id": "cmYW3cgPIGd9",
        "outputId": "c417ac8b-8f40-4b9e-e99c-276204c43982"
      },
      "outputs": [
        {
          "output_type": "stream",
          "name": "stdout",
          "text": [
            "Output: 400\n"
          ]
        }
      ],
      "source": [
        "#1\n",
        "a_tuple = (\"The Institute\", (\"Best Mystery & Thriller\", \"The Silent Patient\", 68821), 75717,[1, 2, 3, 400, 5, 6, 7], (\"Best Fiction\", \"The Testaments\", 98291))\n",
        "\n",
        "print(\"Output:\",a_tuple[3][3])"
      ]
    },
    {
      "cell_type": "code",
      "source": [
        "#2\n",
        "a_tuple=(10, 20, 24, 25, 26, 35, 70)\n",
        "\n",
        "print(a_tuple[2:-2])"
      ],
      "metadata": {
        "colab": {
          "base_uri": "https://localhost:8080/"
        },
        "id": "yu5_meEhKkOf",
        "outputId": "01acb51d-2ab5-46f7-a1c2-b0246256e999"
      },
      "execution_count": null,
      "outputs": [
        {
          "output_type": "stream",
          "name": "stdout",
          "text": [
            "(24, 25, 26)\n"
          ]
        }
      ]
    },
    {
      "cell_type": "code",
      "source": [
        "#3\n",
        "book_info = ((\"Best Mystery & Thriller\",\"The Silent Patient\",68,821),(\"Best Horror\",\"The Institute\",75,717),(\"Best History & Biography\",\"The five\",31,783 ),\n",
        "(\"Best Fiction\",\"The Testaments\",98,291))\n",
        "\n",
        "l=len(book_info)\n",
        "print(\"Size of the tuple is:\",l)\n",
        "\n",
        "for i in book_info:\n",
        "  print(i)"
      ],
      "metadata": {
        "colab": {
          "base_uri": "https://localhost:8080/"
        },
        "id": "kP3zJcabNOWv",
        "outputId": "33a44e0b-e6d1-4ec7-da42-d34ca45d6656"
      },
      "execution_count": null,
      "outputs": [
        {
          "output_type": "stream",
          "name": "stdout",
          "text": [
            "Size of the tuple is: 4\n",
            "('Best Mystery & Thriller', 'The Silent Patient', 68, 821)\n",
            "('Best Horror', 'The Institute', 75, 717)\n",
            "('Best History & Biography', 'The five', 31, 783)\n",
            "('Best Fiction', 'The Testaments', 98, 291)\n"
          ]
        }
      ]
    },
    {
      "cell_type": "code",
      "source": [
        "#4\n",
        "book_info = (\n",
        "(\"Best Mystery & Thriller\",\"The Silent Patient\",68821),\n",
        "(\"Best Horror\",\"The Institute\",75717),\n",
        "(\"Best History & Biography\",\"The five\",31783 ),\n",
        "(\"Best Fiction\",\"The Testaments\",98291)\n",
        ")\n",
        "\n",
        "for item in book_info:\n",
        "  a,b,c=item\n",
        "  print(b,'won the',\"'\"+a+\"'\",'category with',c,'votes')"
      ],
      "metadata": {
        "colab": {
          "base_uri": "https://localhost:8080/"
        },
        "id": "oCD51Kc7Se6T",
        "outputId": "d7356843-5c55-4a7a-8b60-3f663c808146"
      },
      "execution_count": null,
      "outputs": [
        {
          "output_type": "stream",
          "name": "stdout",
          "text": [
            "The Silent Patient won the 'Best Mystery & Thriller' category with 68821 votes\n",
            "The Institute won the 'Best Horror' category with 75717 votes\n",
            "The five won the 'Best History & Biography' category with 31783 votes\n",
            "The Testaments won the 'Best Fiction' category with 98291 votes\n"
          ]
        }
      ]
    },
    {
      "cell_type": "code",
      "source": [
        "#5\n",
        "a_tuple=(10, 8, 5, 2, 10, 15, 10, 8, 5, 8, 8, 2)\n",
        "\n",
        "user=int(input(\"Sir,please enter your desired number:\"))\n",
        "count=0\n",
        "\n",
        "for i in a_tuple:\n",
        "  if i==user:\n",
        "    count+=1\n",
        "  else:\n",
        "    continue\n",
        "\n",
        "print(f\"{user} appears {count} times in the tuple\")"
      ],
      "metadata": {
        "id": "4P337PKtSe9L",
        "colab": {
          "base_uri": "https://localhost:8080/"
        },
        "outputId": "8a4f8fdf-9578-48eb-e353-ab87b609eedf"
      },
      "execution_count": null,
      "outputs": [
        {
          "output_type": "stream",
          "name": "stdout",
          "text": [
            "Sir,please enter your desired number:8\n",
            "8 appears 4 times in the tuple\n"
          ]
        }
      ]
    },
    {
      "cell_type": "code",
      "source": [
        "#6\n",
        "a_tuple=('a', 'b', 'c', 'd', 'e', 'f', 'g', 'h')\n",
        "lst=[]\n",
        "new_lst=[]\n",
        "for i in a_tuple:\n",
        "  lst.append(i)\n",
        "\n",
        "for i in range(len(lst)-1,-1,-1):\n",
        "  new_lst.append(lst[i])\n",
        "\n",
        "new_tuple=tuple(new_lst)\n",
        "\n",
        "print(new_tuple)"
      ],
      "metadata": {
        "colab": {
          "base_uri": "https://localhost:8080/"
        },
        "id": "0-mSkrRRTn-M",
        "outputId": "2cd2f67a-2eed-40b1-dd2e-9625dedc42bf"
      },
      "execution_count": null,
      "outputs": [
        {
          "output_type": "stream",
          "name": "stdout",
          "text": [
            "('h', 'g', 'f', 'e', 'd', 'c', 'b', 'a')\n"
          ]
        }
      ]
    },
    {
      "cell_type": "code",
      "source": [
        "#7\n",
        "a_dict={'Harry':15, 'Draco':8, 'Nevil':19}\n",
        "b_dict={'Ginie':18, 'Luna': 14}\n",
        "\n",
        "new_dict={}\n",
        "new_dict.update(a_dict)\n",
        "new_dict.update(b_dict)\n",
        "\n",
        "print(new_dict)"
      ],
      "metadata": {
        "colab": {
          "base_uri": "https://localhost:8080/"
        },
        "id": "qFICo8L4WG4d",
        "outputId": "8b3fcbed-ad85-4c0d-c8e1-91730f2e7a43"
      },
      "execution_count": null,
      "outputs": [
        {
          "output_type": "stream",
          "name": "stdout",
          "text": [
            "{'Harry': 15, 'Draco': 8, 'Nevil': 19, 'Ginie': 18, 'Luna': 14}\n"
          ]
        }
      ]
    },
    {
      "cell_type": "code",
      "source": [
        "#8\n",
        "a_dict={}\n",
        "sum=0\n",
        "count=0\n",
        "avg=0\n",
        "\n",
        "num=int(input('Enter a number:'))\n",
        "for items in range(num):\n",
        "  key=input('Enter the key:')\n",
        "  value=int(input(\"Enter the value:\"))\n",
        "  a_dict.update({key:value})\n",
        "  sum+=value\n",
        "  count+=1\n",
        "\n",
        "avg=int(sum/count)\n",
        "print(\"Average is\",avg)"
      ],
      "metadata": {
        "colab": {
          "base_uri": "https://localhost:8080/"
        },
        "id": "k17R3zWBXW30",
        "outputId": "104d1fac-7082-42b6-db66-2b25213447e3"
      },
      "execution_count": null,
      "outputs": [
        {
          "output_type": "stream",
          "name": "stdout",
          "text": [
            "Enter a number:3\n",
            "Enter the key:Jon\n",
            "Enter the value:100\n",
            "Enter the key:Dan\n",
            "Enter the value:200\n",
            "Enter the key:Rob\n",
            "Enter the value:300\n",
            "Average is 200\n"
          ]
        }
      ]
    },
    {
      "cell_type": "code",
      "source": [
        "#9\n",
        "exam_marks = {'Cierra Vega': 175, 'Alden Cantrell': 200, 'Kierra Gentry': 165, 'Pierre Cox': 190}\n",
        "\n",
        "num=int(input(\"Ënter a number:\"))\n",
        "dict1={}\n",
        "\n",
        "for value in exam_marks:\n",
        "  if exam_marks[value]>=num:\n",
        "    dict1[value]=exam_marks[value]\n",
        "\n",
        "print(dict1)"
      ],
      "metadata": {
        "colab": {
          "base_uri": "https://localhost:8080/"
        },
        "id": "P1qVm4NwbtF5",
        "outputId": "f9fd5370-ba22-4031-c2e0-596feed35b6f"
      },
      "execution_count": null,
      "outputs": [
        {
          "output_type": "stream",
          "name": "stdout",
          "text": [
            "Ënter a number:170\n",
            "{'Cierra Vega': 175, 'Alden Cantrell': 200, 'Pierre Cox': 190}\n"
          ]
        }
      ]
    },
    {
      "cell_type": "code",
      "source": [
        "#10\n",
        "a_dict={'sci fi': 12, 'mystery': 15, 'horror': 8, 'mythology': 10, 'young_adult': 4, 'adventure':14}\n",
        "max=0\n",
        "new_dict={}\n",
        "\n",
        "for key,value in a_dict.items():\n",
        "  if value>=max:\n",
        "    max=value\n",
        "for key,value in a_dict.items():\n",
        "  if value==max:\n",
        "    genre=key\n",
        "\n",
        "print(f\"The highest selling book genre is '{genre}' and the number of books sold are {max}\")"
      ],
      "metadata": {
        "colab": {
          "base_uri": "https://localhost:8080/"
        },
        "id": "NE_epKxamup_",
        "outputId": "7a4227a8-086d-47f5-88be-7f188d803f52"
      },
      "execution_count": null,
      "outputs": [
        {
          "output_type": "stream",
          "name": "stdout",
          "text": [
            "The highest selling book genre is 'mystery' and the number of books sold are 15\n"
          ]
        }
      ]
    },
    {
      "cell_type": "code",
      "source": [
        "#11\n",
        "str1=input(\"Enter  a string:\")\n",
        "word=''\n",
        "\n",
        "new_word=str1.lower()\n",
        "dict1={}\n",
        "\n",
        "for i in new_word:\n",
        "  if 97<=ord(i)<=122:\n",
        "    word+=i\n",
        "\n",
        "for i in word:\n",
        "  dict1[i]=0\n",
        "\n",
        "for i in word:\n",
        "  dict1[i]+=1\n",
        "\n",
        "print(dict1)"
      ],
      "metadata": {
        "colab": {
          "base_uri": "https://localhost:8080/"
        },
        "id": "GJiKID_qsCdI",
        "outputId": "0ce33c4b-15a5-4311-8910-d9b7179398e5"
      },
      "execution_count": null,
      "outputs": [
        {
          "output_type": "stream",
          "name": "stdout",
          "text": [
            "Enter  a string:Python programming is fun\n",
            "{'p': 2, 'y': 1, 't': 1, 'h': 1, 'o': 2, 'n': 3, 'r': 2, 'g': 2, 'a': 1, 'm': 2, 'i': 2, 's': 1, 'f': 1, 'u': 1}\n"
          ]
        }
      ]
    },
    {
      "cell_type": "code",
      "source": [
        "#12\n",
        "dict_1 = {'A': [1, 2, 3], 'b': ['1', '2'], \"c\": [4, 5, 6, 7]}\n",
        "count=0\n",
        "for x in dict_1.values():\n",
        "  for y in x:\n",
        "    count+=1\n",
        "print(count)    "
      ],
      "metadata": {
        "colab": {
          "base_uri": "https://localhost:8080/"
        },
        "id": "oKozcwpi4-zt",
        "outputId": "03f3f47e-abc6-4fed-d178-7be75de1266d"
      },
      "execution_count": null,
      "outputs": [
        {
          "output_type": "stream",
          "name": "stdout",
          "text": [
            "9\n"
          ]
        }
      ]
    },
    {
      "cell_type": "code",
      "source": [
        "#13\n",
        "list_1 = [(\"a\", 1), (\"b\", 2), (\"a\", 3), (\"b\", 1), (\"a\", 2), (\"c\", 1)]\n",
        "list1=[]\n",
        "list2=[]\n",
        "list3=[]\n",
        "for x in range(len(list_1)):\n",
        "  if list_1[x][0]=='a':\n",
        "    list1.append(list_1[x][1])\n",
        "  elif list_1[x][0]=='b':\n",
        "    list2.append(list_1[x][1])\n",
        "  else:\n",
        "     list3.append(list_1[x][1])\n",
        "dictionary={'a':list1,'b':list2,'c':list3}\n",
        "print(dictionary)"
      ],
      "metadata": {
        "colab": {
          "base_uri": "https://localhost:8080/"
        },
        "id": "xzmu4RRf6BLB",
        "outputId": "0475960f-0c72-4e22-b61c-9a6889f7de5b"
      },
      "execution_count": null,
      "outputs": [
        {
          "output_type": "stream",
          "name": "stdout",
          "text": [
            "{'a': [1, 3, 2], 'b': [2, 1], 'c': [1]}\n"
          ]
        }
      ]
    },
    {
      "cell_type": "code",
      "source": [
        "#14\n",
        "dict1 = {'a':59 , 'b':-82 , 'c':5 , 'd':-81 , 'e':53}\n",
        "\n",
        "for i in dict1:\n",
        " j = 0\n",
        " k = 22\n",
        " while j < 5:\n",
        "   if j % 2 == 0:\n",
        "      k = dict1[i] + j - (8 + k % 6) / 3\n",
        "      dict1[i] = dict1[i]+ int(k)\n",
        "   else:\n",
        "      k = dict1[i] + j - (6 - k % 8) * 3\n",
        "      dict1[i] = dict1[i] - int(k)\n",
        "   j += 1\n",
        " print(int(k))\n",
        " print(i + \" -> \" + str(dict1[i]))"
      ],
      "metadata": {
        "colab": {
          "base_uri": "https://localhost:8080/"
        },
        "id": "7flkJgOuFxan",
        "outputId": "06ba3840-c3e0-486c-a924-2e3306806dd4"
      },
      "execution_count": null,
      "outputs": [
        {
          "output_type": "stream",
          "name": "stdout",
          "text": [
            "8\n",
            "a -> 17\n",
            "10\n",
            "b -> 19\n",
            "2\n",
            "c -> 5\n",
            "-7\n",
            "d -> -14\n",
            "2\n",
            "e -> 5\n"
          ]
        }
      ]
    },
    {
      "cell_type": "markdown",
      "source": [
        "**UNGRADED**"
      ],
      "metadata": {
        "id": "cV60BFYHGUvu"
      }
    },
    {
      "cell_type": "code",
      "source": [
        "#15\n",
        "my_tup=[(2, 3), (4, 5), (6, 7), (2, 8)]\n",
        "lst=[]\n",
        "multiple=1\n",
        "\n",
        "for i in my_tup:\n",
        "  for j in i:\n",
        "    multiple*=j\n",
        "  lst.append(multiple)\n",
        "  multiple=1\n",
        "\n",
        "print(lst)"
      ],
      "metadata": {
        "id": "cdpFz8aYGZ88",
        "colab": {
          "base_uri": "https://localhost:8080/"
        },
        "outputId": "b6728058-7bfa-43a5-c8cc-c576053b3da4"
      },
      "execution_count": null,
      "outputs": [
        {
          "output_type": "stream",
          "name": "stdout",
          "text": [
            "[6, 20, 42, 16]\n"
          ]
        }
      ]
    },
    {
      "cell_type": "code",
      "source": [
        "#16\n",
        "a_tuple = ( [1, 2, 3], [4, 5, 6], [7, 8, 9], [10, 11, 12])\n",
        "user=input(\"Please,enter the data:\")\n",
        "\n",
        "for lst in a_tuple:\n",
        " lst[-1]=user\n",
        "\n",
        "print(a_tuple)"
      ],
      "metadata": {
        "id": "daAfPAqc-XIY",
        "colab": {
          "base_uri": "https://localhost:8080/"
        },
        "outputId": "f151e029-52a4-4e8c-a0ac-ea123324e0e2"
      },
      "execution_count": null,
      "outputs": [
        {
          "output_type": "stream",
          "name": "stdout",
          "text": [
            "Please,enter the data:abc\n",
            "([1, 2, 'abc'], [4, 5, 'abc'], [7, 8, 'abc'], [10, 11, 'abc'])\n"
          ]
        }
      ]
    },
    {
      "cell_type": "code",
      "source": [
        "#17\n",
        "my_dictionary = {'c1':'Red', 'c2':'Green', 'c3':None, 'd4':'Blue', 'a5':None}\n",
        "new_dict=my_dictionary.copy()\n",
        "\n",
        "for key,value in my_dictionary.items():\n",
        "  if value==None:\n",
        "    del new_dict[key]\n",
        "\n",
        "print(new_dict)"
      ],
      "metadata": {
        "colab": {
          "base_uri": "https://localhost:8080/"
        },
        "id": "qTkbpyPuy9A-",
        "outputId": "61cd2bdc-1057-4392-e91b-38f357ea3489"
      },
      "execution_count": null,
      "outputs": [
        {
          "output_type": "stream",
          "name": "stdout",
          "text": [
            "{'c1': 'Red', 'c2': 'Green', 'd4': 'Blue'}\n"
          ]
        }
      ]
    },
    {
      "cell_type": "code",
      "source": [
        "#18\n",
        "dict_1 = {'a' : 6, 'b' : 7, 'c' : 9, 'd' : 8, 'e' : 11, 'f' : 12, 'g' : 13}\n",
        "new_dict={}\n",
        "\n",
        "lower=int(input(\"Please,enter the lower value:\"))\n",
        "upper=int(input(\"Please,enter the upper value:\"))\n",
        "\n",
        "for key,value in dict_1.items():\n",
        "  if lower<=value<upper:\n",
        "    new_dict[key]=value\n",
        "\n",
        "print(new_dict)"
      ],
      "metadata": {
        "colab": {
          "base_uri": "https://localhost:8080/"
        },
        "id": "1_9i6sDv0T-8",
        "outputId": "ab6acadc-8e7f-4e0b-e3da-631ab2174ab4"
      },
      "execution_count": null,
      "outputs": [
        {
          "output_type": "stream",
          "name": "stdout",
          "text": [
            "Please,enter the lower value:9\n",
            "Please,enter the upper value:12\n",
            "{'c': 9, 'e': 11}\n"
          ]
        }
      ]
    },
    {
      "cell_type": "code",
      "source": [
        "#19\n",
        "lst=[(20, 80), (31, 80), (1, 22), (88, 11), (27, 11)]\n",
        "\n",
        "new_dict={}\n",
        "lst1=[]\n",
        "\n",
        "for tuples in lst:\n",
        "  if tuples[-1] not in lst1:\n",
        "    lst1.append(tuples[-1])\n",
        "\n",
        "for value in lst1:\n",
        "  store=[]\n",
        "  for tuples in lst:\n",
        "    if value==tuples[-1]:\n",
        "      store.append(tuples)\n",
        "  \n",
        "  new_dict[value]=store\n",
        "\n",
        "print(new_dict)"
      ],
      "metadata": {
        "colab": {
          "base_uri": "https://localhost:8080/"
        },
        "id": "3c6k9xkaEPVE",
        "outputId": "bf0ece17-48a2-485c-f613-0a726761c07f"
      },
      "execution_count": null,
      "outputs": [
        {
          "output_type": "stream",
          "name": "stdout",
          "text": [
            "{80: [(20, 80), (31, 80)], 22: [(1, 22)], 11: [(88, 11), (27, 11)]}\n"
          ]
        }
      ]
    },
    {
      "cell_type": "code",
      "source": [
        "#20\n",
        "sentence=input(\"Please,enter the sentence/s(if you input multiple sentences,seperate them using fullstop):\")\n",
        "special_char=input(\"Please,enter a list containg special characters:\")\n",
        "\n",
        "dummy=\"\"\n",
        "length=len(special_char)\n",
        "dict_1={}\n",
        "sum=0\n",
        "\n",
        "for i in sentence:\n",
        "  if i==\".\":\n",
        "    pass\n",
        "  else:\n",
        "    dummy+=i\n",
        "\n",
        "lst=dummy.split(\" \")\n",
        "\n",
        "new_lst=[]\n",
        "for r in lst:\n",
        "      if r not in new_lst:\n",
        "        new_lst.append(r)\n",
        "for j in new_lst:\n",
        "  for k in j:\n",
        "    sum+=ord(k)\n",
        "  index=sum%length\n",
        "  dict_1[special_char[index]]=[j]\n",
        "  if special_char[index] not in dict_1:\n",
        "      dict_1[special_char[index]]=[j]\n",
        "  else:\n",
        "      dict_1[special_char[index]].append([j])\n",
        "sum=0\n",
        "\n",
        "print(\"Words in the given String:\",lst)\n",
        "print(\"Answer:\",dict_1)"
      ],
      "metadata": {
        "colab": {
          "base_uri": "https://localhost:8080/"
        },
        "id": "ynATCKJXKDMC",
        "outputId": "0f968c5b-bec1-4b46-9563-65f2b73160d6"
      },
      "execution_count": 2,
      "outputs": [
        {
          "output_type": "stream",
          "name": "stdout",
          "text": [
            "Please,enter the sentence/s(if you input multiple sentences,seperate them using fullstop):'The secret of getting ahead is getting started.'\n",
            "Please,enter a list containg special characters:['-', '=', '+', '*', '%']\n",
            "Words in the given String: [\"'The\", 'secret', 'of', 'getting', 'ahead', 'is', 'getting', \"started'\"]\n",
            "Answer: {\"'\": [\"started'\", [\"started'\"]], ']': ['secret', ['secret']], '+': ['of', ['of']], ' ': ['is', ['is']]}\n"
          ]
        }
      ]
    }
  ]
}