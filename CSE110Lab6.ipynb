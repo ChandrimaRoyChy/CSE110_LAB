{
  "nbformat": 4,
  "nbformat_minor": 0,
  "metadata": {
    "colab": {
      "provenance": []
    },
    "kernelspec": {
      "name": "python3",
      "display_name": "Python 3"
    },
    "language_info": {
      "name": "python"
    }
  },
  "cells": [
    {
      "cell_type": "code",
      "execution_count": null,
      "metadata": {
        "colab": {
          "base_uri": "https://localhost:8080/"
        },
        "id": "b6Ga2Q5AVXak",
        "outputId": "4eeaf4a4-3970-43fd-a73d-180c22816623"
      },
      "outputs": [
        {
          "output_type": "stream",
          "name": "stdout",
          "text": [
            "Odd!!\n",
            "Even!!\n"
          ]
        }
      ],
      "source": [
        "#1\n",
        "def even_checker(num):\n",
        "\n",
        "  if num%2==0:\n",
        "    print(\"Even!!\")\n",
        "  else:\n",
        "    print(\"Odd!!\")\n",
        "\n",
        "even_checker(5)\n",
        "even_checker(2)"
      ]
    },
    {
      "cell_type": "code",
      "source": [
        "#2\n",
        "def fibonacci(limit):\n",
        "  x=0\n",
        "  y=1\n",
        "  print(x,end=\" \")\n",
        "  print(y,end=\" \")\n",
        "\n",
        "  for num in range(2,limit+1):\n",
        "    if x+y>limit:\n",
        "      return\n",
        "    z=x+y\n",
        "    x=y\n",
        "    y=z\n",
        "    print(z,end=\" \")\n",
        "fibonacci(10)\n",
        "\n",
        "#fibonacci(5)"
      ],
      "metadata": {
        "colab": {
          "base_uri": "https://localhost:8080/"
        },
        "id": "mI35OpN6WzYu",
        "outputId": "ad2a3b61-f82c-438e-8084-ddfd4ec51103"
      },
      "execution_count": null,
      "outputs": [
        {
          "output_type": "stream",
          "name": "stdout",
          "text": [
            "0 1 1 2 3 5 8 "
          ]
        }
      ]
    },
    {
      "cell_type": "code",
      "source": [
        "#3\n",
        "def foo_moo(num):\n",
        "  if num%2==0 and num%3==0:\n",
        "    return 'FooMoo'\n",
        "  elif num%2==0:\n",
        "    return 'Foo'\n",
        "  elif num%3==0:\n",
        "    return 'Moo'\n",
        "  else:\n",
        "    pass\n",
        "foo_moo(4)"
      ],
      "metadata": {
        "colab": {
          "base_uri": "https://localhost:8080/",
          "height": 35
        },
        "id": "2txuNQY9Xvrf",
        "outputId": "68bf5515-5658-494b-ce12-ab12acbf895e"
      },
      "execution_count": null,
      "outputs": [
        {
          "output_type": "execute_result",
          "data": {
            "text/plain": [
              "'Foo'"
            ],
            "application/vnd.google.colaboratory.intrinsic+json": {
              "type": "string"
            }
          },
          "metadata": {},
          "execution_count": 5
        }
      ]
    },
    {
      "cell_type": "code",
      "source": [
        "#4\n",
        "def upper_lower_case(string):\n",
        "  upper=0\n",
        "  lower=0\n",
        "  for i in string:\n",
        "    if 65<=ord(i)<=90:\n",
        "      upper+=1\n",
        "    elif 97<=ord(i)<=122:\n",
        "      lower+=1\n",
        "    \n",
        "  print(f\"No. of Uppercase characters:{upper}\")\n",
        "  print(f\"No. of Lowercase Characters:{lower}\")\n",
        "\n",
        "upper_lower_case('The quick Sand Man')\n",
        "upper_lower_case('HaRRy PotteR')"
      ],
      "metadata": {
        "colab": {
          "base_uri": "https://localhost:8080/"
        },
        "id": "F-hNgZR6ZGBZ",
        "outputId": "bb219a08-7626-42ea-9280-b2ca0fb401eb"
      },
      "execution_count": null,
      "outputs": [
        {
          "output_type": "stream",
          "name": "stdout",
          "text": [
            "No. of Uppercase characters:3\n",
            "No. of Lowercase Characters:12\n",
            "No. of Uppercase characters:5\n",
            "No. of Lowercase Characters:6\n"
          ]
        }
      ]
    },
    {
      "cell_type": "code",
      "source": [
        "#5\n",
        "def calculate_tax(age,salary,current_job):\n",
        "  if (current_job==\"President\" and current_job==\"president\") or age<18 or salary==10000:\n",
        "    return 0\n",
        "  elif 10000<=salary<=20000:\n",
        "    amount=(salary*5)/100\n",
        "    return amount\n",
        "  elif salary>=20000:\n",
        "    amount=(salary*10)/100\n",
        "    return amount\n",
        "calculate_tax(16, 20000, 'Student')\n",
        "#calculate_tax(20, 18000, 'assistant manager')\n",
        "#calculate_tax(20, 18000, 'assistant manager')\n",
        "calculate_tax(20, 22000, 'Assistant manager')"
      ],
      "metadata": {
        "colab": {
          "base_uri": "https://localhost:8080/"
        },
        "id": "IZ3UuB96cVae",
        "outputId": "8e22d283-f42e-4025-85e1-1545804625ab"
      },
      "execution_count": null,
      "outputs": [
        {
          "output_type": "execute_result",
          "data": {
            "text/plain": [
              "2200.0"
            ]
          },
          "metadata": {},
          "execution_count": 11
        }
      ]
    },
    {
      "cell_type": "code",
      "source": [
        "#6\n",
        "def calculate_days(days):\n",
        "  years=days//365\n",
        "  remainder=days%365\n",
        "  month=remainder//30\n",
        "  day=remainder%30\n",
        "\n",
        "  print(f\"{years} years,{month} months and {day} days\")\n",
        "calculate_days(4330)\n",
        "calculate_days(2250)"
      ],
      "metadata": {
        "colab": {
          "base_uri": "https://localhost:8080/"
        },
        "id": "MePxeo6sfdq6",
        "outputId": "d73e3a79-e34d-4728-8af3-1eb5c1f0ef62"
      },
      "execution_count": null,
      "outputs": [
        {
          "output_type": "stream",
          "name": "stdout",
          "text": [
            "11 years,10 months and 15 days\n",
            "6 years,2 months and 0 days\n"
          ]
        }
      ]
    },
    {
      "cell_type": "code",
      "source": [
        "#7\n",
        "def show_palindrome(n):\n",
        "  str1=\"\"\n",
        "  str2=\"\"\n",
        "  for x in range(1,n+1):\n",
        "    a=str(x)\n",
        "    str1+=a\n",
        "  for x in range(n-1,0,-1):\n",
        "    b=str(x)\n",
        "    str2+=b\n",
        "  return(str1+str2)\n",
        "print(show_palindrome(3))  \n",
        "print(show_palindrome(5))"
      ],
      "metadata": {
        "colab": {
          "base_uri": "https://localhost:8080/"
        },
        "id": "RJ4wI8VNX7jT",
        "outputId": "03035439-5af7-4802-f5eb-88c0c0d74679"
      },
      "execution_count": null,
      "outputs": [
        {
          "output_type": "stream",
          "name": "stdout",
          "text": [
            "12321\n",
            "123454321\n"
          ]
        }
      ]
    },
    {
      "cell_type": "code",
      "source": [
        "#8\n",
        "def show_palindrome(n):\n",
        "  str1=\"\"\n",
        "  str2=\"\"\n",
        "  for x in range(1,n+1):\n",
        "    a=str(x)\n",
        "    str1+=a\n",
        "  for x in range(n-1,0,-1):\n",
        "    b=str(x)\n",
        "    str2+=b\n",
        "  return(str1+str2)\n",
        "def show_palindromic_triangle(n):\n",
        "  for x in range(1,n+1):\n",
        "    print(\" \"*(n-x)+show_palindrome(x))\n",
        "    \n",
        "show_palindromic_triangle(5)"
      ],
      "metadata": {
        "colab": {
          "base_uri": "https://localhost:8080/"
        },
        "id": "7S151fuAOCxP",
        "outputId": "2f86c600-d9a7-4584-9316-d540fa246661"
      },
      "execution_count": null,
      "outputs": [
        {
          "output_type": "stream",
          "name": "stdout",
          "text": [
            "    1\n",
            "   121\n",
            "  12321\n",
            " 1234321\n",
            "123454321\n"
          ]
        }
      ]
    },
    {
      "cell_type": "code",
      "source": [
        "#9\n",
        "import math\n",
        "\n",
        "def area_circumference_generator(radius):\n",
        "  area=math.pi*radius**2\n",
        "  circumference=2*math.pi*radius\n",
        "  return area,circumference\n",
        "\n",
        "d= area_circumference_generator(1)\n",
        "a,c=d\n",
        "print(d)\n",
        "print(f\"Area of the circle is {a} and circumference is {c}\")"
      ],
      "metadata": {
        "id": "vo0k0HmjtXK7",
        "colab": {
          "base_uri": "https://localhost:8080/"
        },
        "outputId": "47e756e5-8f9a-466c-b86d-01b8a431f69d"
      },
      "execution_count": null,
      "outputs": [
        {
          "output_type": "stream",
          "name": "stdout",
          "text": [
            "(3.141592653589793, 6.283185307179586)\n",
            "Area of the circle is 3.141592653589793 and circumference is 6.283185307179586\n"
          ]
        }
      ]
    },
    {
      "cell_type": "code",
      "source": [
        "#10\n",
        "def make_square(tuple1):\n",
        "  dictionary={}\n",
        "  for x in range(1,(tuple1[-1])+1):\n",
        "    dictionary[x]=x**2\n",
        "  return dictionary\n",
        "make_square((1,3))\n",
        "make_square((5,9))  "
      ],
      "metadata": {
        "id": "MwCXlnFyA7Cn",
        "colab": {
          "base_uri": "https://localhost:8080/"
        },
        "outputId": "27964345-4cf0-404a-9327-5fd62faf1f52"
      },
      "execution_count": null,
      "outputs": [
        {
          "output_type": "execute_result",
          "data": {
            "text/plain": [
              "{1: 1, 2: 4, 3: 9, 4: 16, 5: 25, 6: 36, 7: 49, 8: 64, 9: 81}"
            ]
          },
          "metadata": {},
          "execution_count": 45
        }
      ]
    },
    {
      "cell_type": "code",
      "source": [
        "#11\n",
        "def rem_duplicate(tup):\n",
        "  lst=[]\n",
        "  for i in tup:\n",
        "    if i not in lst:\n",
        "      lst.append(i)\n",
        "\n",
        "  new_tup=tuple(lst)\n",
        "  return new_tup\n",
        "\n",
        "rem_duplicate((1,1,1,2,3,4,5,6,6,6,6,4,0,0,0))"
      ],
      "metadata": {
        "colab": {
          "base_uri": "https://localhost:8080/"
        },
        "id": "lMKTGAiIzZR3",
        "outputId": "c37b00ca-fbe8-4073-d564-2459f9596b10"
      },
      "execution_count": null,
      "outputs": [
        {
          "output_type": "execute_result",
          "data": {
            "text/plain": [
              "(1, 2, 3, 4, 5, 6, 0)"
            ]
          },
          "metadata": {},
          "execution_count": 1
        }
      ]
    },
    {
      "cell_type": "code",
      "source": [
        "#12\n",
        "def list1(elements):\n",
        "  lst=[]\n",
        "  for values in elements:\n",
        "    if lst.count(values)<=2:\n",
        "      lst.append(values)\n",
        "    if lst.count(values)>2:\n",
        "      lst.remove(values)\n",
        "  print(\"Removed:\",lst.count(values))\n",
        "  return lst\n",
        "list1([1, 2, 3, 3, 3, 3, 4, 5, 8, 8])"
      ],
      "metadata": {
        "colab": {
          "base_uri": "https://localhost:8080/"
        },
        "id": "j7tA1BI1akd3",
        "outputId": "820c3bf4-737e-474f-82a8-6d58ffe6212a"
      },
      "execution_count": null,
      "outputs": [
        {
          "output_type": "stream",
          "name": "stdout",
          "text": [
            "Removed: 2\n"
          ]
        },
        {
          "output_type": "execute_result",
          "data": {
            "text/plain": [
              "[1, 2, 3, 3, 4, 5, 8, 8]"
            ]
          },
          "metadata": {},
          "execution_count": 1
        }
      ]
    },
    {
      "cell_type": "code",
      "source": [
        "#13\n",
        "operator=input(\"Enter the operator:\")\n",
        "num1=int(input(\"Enter the first number:\"))\n",
        "num2=int(input(\"Enter the second number:\"))\n",
        "\n",
        "def calculation(operator,num1,num2):\n",
        "  if operator==\"+\":\n",
        "    return num1+num2\n",
        "  elif operator==\"-\":\n",
        "    return num1-num2\n",
        "  elif operator==\"*\":\n",
        "    return num1*num2\n",
        "  elif operator==\"/\":\n",
        "    return num1/num2\n",
        "\n",
        "calculation(operator,num1,num2)"
      ],
      "metadata": {
        "colab": {
          "base_uri": "https://localhost:8080/"
        },
        "id": "-Pxd2H9WDr6Y",
        "outputId": "611726f4-4d8c-438e-c017-fc585850938e"
      },
      "execution_count": null,
      "outputs": [
        {
          "name": "stdout",
          "output_type": "stream",
          "text": [
            "Enter the operator:+\n",
            "Enter the first number:10\n",
            "Enter the second number:20\n"
          ]
        },
        {
          "output_type": "execute_result",
          "data": {
            "text/plain": [
              "30"
            ]
          },
          "metadata": {},
          "execution_count": 55
        }
      ]
    },
    {
      "cell_type": "code",
      "source": [
        "#14\n",
        "sentence=input(\"Enter the sentence:\")\n",
        "position=int(input(\"Enter the position:\"))\n",
        "\n",
        "def Function(sentence,position):\n",
        "  str1=sentence[0]\n",
        "  str2=\"\"\n",
        "  for i in range(1,len(sentence)):\n",
        "    if i%position!=0:\n",
        "      str1+=sentence[i]\n",
        "    else:\n",
        "      str2+=sentence[i]\n",
        "  return str1+str2\n",
        "\n",
        "Function(sentence,position)"
      ],
      "metadata": {
        "colab": {
          "base_uri": "https://localhost:8080/",
          "height": 70
        },
        "id": "TYPGynLEGVw0",
        "outputId": "870918eb-fd22-4a8e-fdd9-27b82bf76a25"
      },
      "execution_count": null,
      "outputs": [
        {
          "name": "stdout",
          "output_type": "stream",
          "text": [
            "Enter the sentence:I love programming.\n",
            "Enter the position:3\n"
          ]
        },
        {
          "output_type": "execute_result",
          "data": {
            "text/plain": [
              "'I lveprgrmmngo oai.'"
            ],
            "application/vnd.google.colaboratory.intrinsic+json": {
              "type": "string"
            }
          },
          "metadata": {},
          "execution_count": 60
        }
      ]
    },
    {
      "cell_type": "code",
      "source": [
        "#15\n",
        "items=[]\n",
        "items_limit=int(input(\"Enter the number of items you want:\"))\n",
        "for i in range(items_limit):\n",
        "  elements=input(\"Enter your item names:\")\n",
        "  items.append(elements)\n",
        "\n",
        "def grocery_store(items,location=\"Dhanmondi\"):\n",
        "  price_dict={\"Rice\":105,\"Potato\":20,\"Chicken\":250,\"Beef\":510,\"Oil\":85}\n",
        "  total_price=0\n",
        "\n",
        "  for keys,values in price_dict.items():\n",
        "    for i in items:\n",
        "      if i in keys:\n",
        "        total_price+=values\n",
        "        w\n",
        "  if location==\"Dhanmondi\":\n",
        "    total_price+=30\n",
        "  else:\n",
        "    total_price+=70\n",
        "  return total_price\n",
        "\n",
        "grocery_store(items,\"Mohakhali\")"
      ],
      "metadata": {
        "colab": {
          "base_uri": "https://localhost:8080/"
        },
        "id": "s8d3HQpOGVzC",
        "outputId": "b7199383-d7df-485a-bb79-42ecc233e582"
      },
      "execution_count": null,
      "outputs": [
        {
          "name": "stdout",
          "output_type": "stream",
          "text": [
            "Enter the number of items you want:3\n",
            "Enter your item names:Rice\n",
            "Enter your item names:Beef\n",
            "Enter your item names:Rice\n"
          ]
        },
        {
          "output_type": "execute_result",
          "data": {
            "text/plain": [
              "750"
            ]
          },
          "metadata": {},
          "execution_count": 74
        }
      ]
    },
    {
      "cell_type": "markdown",
      "source": [
        "**UNGRADED**"
      ],
      "metadata": {
        "id": "3WCjjMbqbjCQ"
      }
    },
    {
      "cell_type": "code",
      "source": [
        "#16\n",
        "def splitting_money(amount):\n",
        "  \n",
        "  five_hundred=amount//500\n",
        "  five_hundred1=amount%500\n",
        "  hundred=five_hundred1//100\n",
        "  hundred1=five_hundred1%100\n",
        "  twenty=hundred1//20\n",
        "  twenty1=hundred1%20\n",
        "  ten=twenty1//10\n",
        "  ten1=twenty1%10\n",
        "  two=ten1//2\n",
        "  two1=ten%2\n",
        "\n",
        "  print(f'500 Taka:{five_hundred} note(s)')\n",
        "  print(f'100 Taka:{hundred} note(s)')\n",
        "  print(f'20 Taka:{twenty} note(s)')\n",
        "  print(f'10 Taka:{ten} note(s)')\n",
        "  print(f'2 Taka:{two} note(s)')\n",
        "\n",
        "amount=int(input(\"Pleas,enter the amount:\"))\n",
        "splitting_money(amount)"
      ],
      "metadata": {
        "colab": {
          "base_uri": "https://localhost:8080/"
        },
        "id": "yTMwFIeZ7qV6",
        "outputId": "d76336c1-f749-41e4-bccb-2cd0bcca68ed"
      },
      "execution_count": null,
      "outputs": [
        {
          "output_type": "stream",
          "name": "stdout",
          "text": [
            "Pleas,enter the amount:1234\n",
            "500 Taka:2 note(s)\n",
            "100 Taka:2 note(s)\n",
            "20 Taka:1 note(s)\n",
            "10 Taka:1 note(s)\n",
            "2 Taka:2 note(s)\n"
          ]
        }
      ]
    },
    {
      "cell_type": "code",
      "source": [
        "#task-17\n",
        "def remove_odd(lst):\n",
        "  lst1=[]\n",
        "  for i in lst:\n",
        "    if i%2==0:\n",
        "      lst1.append(i)\n",
        "    else:\n",
        "      pass\n",
        "\n",
        "  return lst1\n",
        "\n",
        "remove_odd([21, 33, 44, 66, 11, 1, 88, 45, 10, 9])\n"
      ],
      "metadata": {
        "colab": {
          "base_uri": "https://localhost:8080/"
        },
        "id": "sXVIiS6zDKBt",
        "outputId": "5fe70101-06bc-4da5-cbd2-111ea796f942"
      },
      "execution_count": null,
      "outputs": [
        {
          "output_type": "execute_result",
          "data": {
            "text/plain": [
              "[44, 66, 88, 10]"
            ]
          },
          "metadata": {},
          "execution_count": 3
        }
      ]
    },
    {
      "cell_type": "code",
      "source": [
        "#task-18\n",
        "def calculation(start,end,first_div,second_div):\n",
        "  sum=0\n",
        "  for i in range(start,end):\n",
        "    if i%first_div==0 and i%second_div==0:\n",
        "      pass\n",
        "    elif i%first_div==0 or i%second_div==0:\n",
        "      sum+=i\n",
        "  return sum\n",
        "\n",
        "print(calculation(10, 40, 4, 7)) "
      ],
      "metadata": {
        "colab": {
          "base_uri": "https://localhost:8080/"
        },
        "id": "RVvx8addJr8T",
        "outputId": "92d13a5d-3a0e-40d1-fbb3-b2715a57ab37"
      },
      "execution_count": null,
      "outputs": [
        {
          "output_type": "stream",
          "name": "stdout",
          "text": [
            "210\n"
          ]
        }
      ]
    },
    {
      "cell_type": "code",
      "source": [
        "#task-19\n",
        "def sentence(str1):\n",
        "  flag=True\n",
        "  new_str=str1.lower()\n",
        "  alphabets='abcdefghij'\n",
        "  \n",
        "  for i in alphabets:\n",
        "     if i not in new_str:\n",
        "       flag=False\n",
        "     else:\n",
        "       flag=True\n",
        "\n",
        "  if flag==True:\n",
        "    print(\"PSG will win the Champions League this season\\n\"*5) \n",
        "  else:\n",
        "    print(\"PSG will win the Champions League this season\\n\"*6)\n",
        "str1=input(\"Enter your string:\")\n",
        "sentence(str1)"
      ],
      "metadata": {
        "colab": {
          "base_uri": "https://localhost:8080/"
        },
        "outputId": "0aa42655-5620-4e9b-e8c6-89c9dc7c51b4",
        "id": "hp3V1J9Bi9nG"
      },
      "execution_count": null,
      "outputs": [
        {
          "output_type": "stream",
          "name": "stdout",
          "text": [
            "Enter your string: \"A black jackal is hunting a full grown deer\" \n",
            "PSG will win the Champions League this season\n",
            "PSG will win the Champions League this season\n",
            "PSG will win the Champions League this season\n",
            "PSG will win the Champions League this season\n",
            "PSG will win the Champions League this season\n",
            "\n"
          ]
        }
      ]
    },
    {
      "cell_type": "code",
      "source": [
        "#task-20\n",
        "def individul_bonus_calculation(name,income,goal,bonus):\n",
        "\n",
        "  if 20<goal<=30:\n",
        "    bonus=int(goal*(bonus/100*income)+5000)\n",
        "  else:\n",
        "    bonus=int(goal*(bonus/100*income)+10000)\n",
        "\n",
        "  print(f\"Neymar earned a bonus of {bonus} Taka for {goal} goals.\")\n",
        "individul_bonus_calculation(\"Neymar\", 1200000, 35, 5)\n"
      ],
      "metadata": {
        "colab": {
          "base_uri": "https://localhost:8080/"
        },
        "id": "m_pRdqH5iz1K",
        "outputId": "634d0a2a-ddef-4a9f-a433-e273f468ba6e"
      },
      "execution_count": null,
      "outputs": [
        {
          "output_type": "stream",
          "name": "stdout",
          "text": [
            "Neymar earned a bonus of 2110000 Taka for 35 goals.\n"
          ]
        }
      ]
    },
    {
      "cell_type": "code",
      "source": [],
      "metadata": {
        "id": "cBWR-5X7hzX0"
      },
      "execution_count": null,
      "outputs": []
    }
  ]
}