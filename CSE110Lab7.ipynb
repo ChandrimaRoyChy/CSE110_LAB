{
  "nbformat": 4,
  "nbformat_minor": 0,
  "metadata": {
    "colab": {
      "provenance": []
    },
    "kernelspec": {
      "name": "python3",
      "display_name": "Python 3"
    },
    "language_info": {
      "name": "python"
    }
  },
  "cells": [
    {
      "cell_type": "code",
      "execution_count": null,
      "metadata": {
        "colab": {
          "base_uri": "https://localhost:8080/"
        },
        "outputId": "e31829db-79da-4230-ad9e-ecc9f75c6511",
        "id": "o_FiwUkwlm51"
      },
      "outputs": [
        {
          "output_type": "execute_result",
          "data": {
            "text/plain": [
              "[10, 1, 20, 3, 6, 2, 5, 11, 15, 2, 12, 14, 17, 18, 29]"
            ]
          },
          "metadata": {},
          "execution_count": 18
        }
      ],
      "source": [
        "#1(selection sort-asending)\n",
        "def lst(list1):\n",
        "  for i in range(len(list1)-1):\n",
        "    min=list1[i]\n",
        "    min_idx=i\n",
        "    for j in range(i+1,(len(list1))):\n",
        "      if min>list1[j]:\n",
        "        min=list1[j]\n",
        "        min_idx=j\n",
        "    list1[i],list1[min_idx]=list1[min_idx],list1[i]\n",
        "  return list1\n",
        "\n",
        "lst([10, 1, 20, 3, 6, 2, 5, 11, 15, 2, 12, 14, 17, 18, 29])"
      ]
    },
    {
      "cell_type": "code",
      "source": [
        "#1(Bubble sort-asending)\n",
        "def lst(list1):\n",
        "  for i in range(len(list1)-1):\n",
        "    for j in range(len(list1)-1):\n",
        "      if list1[j]>list1[j+1]:\n",
        "        list1[j],list1[j+1]=list1[j+1],list1[j]\n",
        "  return list1\n",
        "my_list=[10, 1, 20, 3, 6, 2, 5, 11, 15, 2, 12, 14, 17, 18, 29]\n",
        "lst(my_list)"
      ],
      "metadata": {
        "colab": {
          "base_uri": "https://localhost:8080/"
        },
        "outputId": "aa6d954f-d680-4d03-a4eb-62da4fb1c029",
        "id": "yYvcK9wFj1LX"
      },
      "execution_count": null,
      "outputs": [
        {
          "output_type": "execute_result",
          "data": {
            "text/plain": [
              "[1, 2, 2, 3, 5, 6, 10, 11, 12, 14, 15, 17, 18, 20, 29]"
            ]
          },
          "metadata": {},
          "execution_count": 2
        }
      ]
    },
    {
      "cell_type": "code",
      "execution_count": null,
      "metadata": {
        "colab": {
          "base_uri": "https://localhost:8080/"
        },
        "outputId": "540378eb-1302-45b1-c20d-8237305c72ba",
        "id": "cSINNz5JmGM7"
      },
      "outputs": [
        {
          "output_type": "execute_result",
          "data": {
            "text/plain": [
              "[1, 2, 2, 3, 5, 6, 10, 11, 12, 14, 15, 17, 18, 20, 29]"
            ]
          },
          "metadata": {},
          "execution_count": 4
        }
      ],
      "source": [
        "#2(selection sort-asending)\n",
        "def lst(list1):\n",
        "  for i in range(len(list1)-1):\n",
        "    min=list1[i]\n",
        "    min_idx=i\n",
        "    for j in range(i+1,(len(list1))):\n",
        "      if min>list1[j]:\n",
        "        min=list1[j]\n",
        "        min_idx=j\n",
        "    list1[i],list1[min_idx]=list1[min_idx],list1[i]\n",
        "  return list1\n",
        "\n",
        "my_list=[10, 1, 20, 3, 6, 2, 5, 11, 15, 2, 12, 14, 17, 18, 29]\n",
        "lst(my_list)"
      ]
    },
    {
      "cell_type": "code",
      "source": [
        "#3(Bubble sort-desending)\n",
        "def lst(list1):\n",
        "  for i in range(len(list1)-1):\n",
        "    for j in range(len(list1)-1):\n",
        "      if list1[j]<list1[j+1]:\n",
        "        list1[j],list1[j+1]=list1[j+1],list1[j]\n",
        "  return list1\n",
        "\n",
        "my_list = [10, 1, 20, 3, 6, 2, 5, 11, 15, 2, 12, 14, 17, 18, 29]\n",
        "lst(my_list)"
      ],
      "metadata": {
        "colab": {
          "base_uri": "https://localhost:8080/"
        },
        "outputId": "1db548f4-96c5-464d-c7ab-02bedae0820e",
        "id": "--s9nfVTmqJ8"
      },
      "execution_count": null,
      "outputs": [
        {
          "output_type": "execute_result",
          "data": {
            "text/plain": [
              "[29, 20, 18, 17, 15, 14, 12, 11, 10, 6, 5, 3, 2, 2, 1]"
            ]
          },
          "metadata": {},
          "execution_count": 5
        }
      ]
    },
    {
      "cell_type": "code",
      "source": [
        "#4\n",
        "def sitting_list(list1):  \n",
        "    for x in range(len(list1)):\n",
        "        for y in range(x,len(list1)):\n",
        "            if x%2==0 and y%2==0:\n",
        "                if list1[x]>list1[y]:\n",
        "                    list1[x],list1[y]=list1[y],list1[x]\n",
        "                \n",
        "    for z in range(len(list1)):\n",
        "        for i in range(z,len(list1)):\n",
        "            if z%2!=0 and i%2!=0:\n",
        "                if list1[z]<list1[i]:\n",
        "                    list1[z],list1[i]=list1[i],list1[z]\n",
        "    return list1 \n",
        "\n",
        "sitting_list = [10,30,20,70,11,15,22,16,58,100,12,56,70,80]            \n",
        "print(sitting_list)"
      ],
      "metadata": {
        "colab": {
          "base_uri": "https://localhost:8080/"
        },
        "id": "21OHPmcCn7fA",
        "outputId": "f2622350-b094-4691-d786-33f8cb09a759"
      },
      "execution_count": null,
      "outputs": [
        {
          "output_type": "stream",
          "name": "stdout",
          "text": [
            "[10, 30, 20, 70, 11, 15, 22, 16, 58, 100, 12, 56, 70, 80]\n"
          ]
        }
      ]
    },
    {
      "cell_type": "code",
      "source": [
        "#5\n",
        "def marks(lst):\n",
        "\n",
        "  str1=input(\"Enter your desired course:\")\n",
        "  dictionary={'CSE110':1,'PHY111':2,'MAT110':3}\n",
        "  for x in range(len(lst)-1):\n",
        "      for y in range(len(lst)-1-x):\n",
        "          if lst[y][dictionary[str1]] < lst[y+1][dictionary[str1]]:\n",
        "              lst[y],lst[y+1] = lst[y+1],lst[y]\n",
        "\n",
        "  for x in lst:\n",
        "      print(x[0])\n",
        "\n",
        "\n",
        "marks([[\"Alan\", 95, 87, 91],[\"Turing\", 92, 90, 83],[\"Elon\", 87, 92, 80],[\"Musk\", 85, 94, 90]])"
      ],
      "metadata": {
        "colab": {
          "base_uri": "https://localhost:8080/"
        },
        "id": "N81OZw00Y15R",
        "outputId": "1035df28-96cb-44ef-b780-ed265ea4da36"
      },
      "execution_count": null,
      "outputs": [
        {
          "output_type": "stream",
          "name": "stdout",
          "text": [
            "Enter your desired course:MAT110\n",
            "Alan\n",
            "Musk\n",
            "Turing\n",
            "Elon\n"
          ]
        }
      ]
    },
    {
      "cell_type": "code",
      "source": [
        "#Solution of Task-6\n",
        "my_list=[4, 2, 3, 1, 6, 5]\n",
        "list1=my_list.copy()\n",
        "count=0\n",
        "\n",
        "for x in range(0,len(my_list)):\n",
        "  min_val=my_list[x]\n",
        "  min_index=x\n",
        "  for y in range(x+1,len(my_list)):\n",
        "    if my_list[y]<min_val:\n",
        "      min_val=my_list[y]\n",
        "      min_index=y\n",
        "  temp=min_val\n",
        "  my_list[min_index]=my_list[x]\n",
        "  my_list[x]=temp\n",
        "\n",
        "\n",
        "for z in range(len(my_list)):\n",
        "  if my_list[z]!=list1[z]:\n",
        "    count+=1\n",
        "print(count)"
      ],
      "metadata": {
        "colab": {
          "base_uri": "https://localhost:8080/"
        },
        "id": "P93TrsGnfhlB",
        "outputId": "0989983b-e62b-40e9-c15b-9a7b8fd2cd80"
      },
      "execution_count": null,
      "outputs": [
        {
          "output_type": "stream",
          "name": "stdout",
          "text": [
            "4\n"
          ]
        }
      ]
    },
    {
      "cell_type": "code",
      "source": [
        "#Solution of Task-7\n",
        "def my_function(list1,list2):\n",
        "    list3=[]\n",
        "    for x in list1:\n",
        "        list3.append(int(x))\n",
        "    for x in list2:\n",
        "        list3.append(int(x))\n",
        "    for x in range(len(list3)):\n",
        "        for y in range(len(list3)-1):\n",
        "            if list3[y+1]<list3[y]:\n",
        "                list3[y+1],list3[y]=list3[y],list3[y+1]\n",
        "    print(\"Sorted list =\",list3)            \n",
        "    if len(list3)%2!=0:\n",
        "        median=list3[len(list3)//2]\n",
        "    else:\n",
        "        num1=list3[len(list3)//2-1]\n",
        "        num2=list3[(len(list3)//2)]\n",
        "        median=(num1+num2)/2\n",
        "    print(\"Median =\", median)            \n",
        "    \n",
        "list1= input(\"Enter the first list:\")[1:-1].split(\", \")\n",
        "list2= input(\"Enter the second list:\")[1:-1].split(\", \")\n",
        "my_function(list1,list2)"
      ],
      "metadata": {
        "colab": {
          "base_uri": "https://localhost:8080/"
        },
        "id": "2AQ8jQqeZgSX",
        "outputId": "e7c8b4e3-6b71-4e8f-dfb8-d176ade84ef9"
      },
      "execution_count": 2,
      "outputs": [
        {
          "output_type": "stream",
          "name": "stdout",
          "text": [
            "Enter the first list:[1, 2, 1, 4]\n",
            "Enter the second list:[5, 4, 1]\n",
            "Sorted list = [1, 1, 1, 2, 4, 4, 5]\n",
            "Median = 2\n"
          ]
        }
      ]
    },
    {
      "cell_type": "code",
      "source": [
        "#Solution of Task-8\n",
        "list1= input(\"Enter the list:\").replace('[','').replace(']','').replace(' ','').split(',')\n",
        "temp_list=[int(x) for x in list1]\n",
        "\n",
        "for x in range(len(temp_list)-1):\n",
        "    for y in range(len(temp_list)-x-1):\n",
        "        if temp_list[y]>temp_list[y+1]:\n",
        "            temp_list[y],temp_list[y+1]=temp_list[y+1],temp_list[y]\n",
        "\n",
        "left_ind=0 \n",
        "right_ind=len(temp_list)-1\n",
        "min_sum=temp_list[left_ind] + temp_list[right_ind]\n",
        "left_val=temp_list[left_ind]\n",
        "right_val=temp_list[right_ind]\n",
        "\n",
        "while left_ind < right_ind:\n",
        "    sum=temp_list[left_ind] + temp_list[right_ind]\n",
        "    \n",
        "    if abs(sum)<abs(min_sum):\n",
        "        min_sum=sum\n",
        "        left_val=temp_list[left_ind]\n",
        "        right_val=temp_list[right_ind]\n",
        "        \n",
        "    if sum<0:\n",
        "        left_ind+= 1\n",
        "    elif sum>0:\n",
        "        right_ind-= 1\n",
        "    else:\n",
        "        break\n",
        "    \n",
        "print('Two pairs which have the smallest sum =',right_val,'and',left_val)"
      ],
      "metadata": {
        "colab": {
          "base_uri": "https://localhost:8080/"
        },
        "id": "5uyuQ-0laYWb",
        "outputId": "69943e44-b45c-4d97-de33-614ce2e94771"
      },
      "execution_count": 3,
      "outputs": [
        {
          "output_type": "stream",
          "name": "stdout",
          "text": [
            "Enter the list:[-10, 15, 2, 4, -4, 7, -8]\n",
            "Two pairs which have the smallest sum = 4 and -4\n"
          ]
        }
      ]
    },
    {
      "cell_type": "code",
      "source": [
        "#Solution of Task-9\n",
        "import math\n",
        "def my_function(points):\n",
        "    list1=[]\n",
        "    dict1={}\n",
        "    min1=\"\"\n",
        "    min2=0\n",
        "    for x in points:\n",
        "        num1=x[0]\n",
        "        num2=x[1]\n",
        "        dist=math.sqrt((num1**2 + (num2**2)))\n",
        "        list1.append(dist)\n",
        "    for x in range(len(points)):\n",
        "        dict1[list1[x]]=points[x]\n",
        "        \n",
        "    for x in range(len(list1)):\n",
        "        for y in range(len(list1)-1):\n",
        "            if list1[y+1]<list1[y]:\n",
        "                list1[y],list1[y+1]=list1[y+1],list1[y]\n",
        "    for x in dict1:\n",
        "        if x==list1[0]:\n",
        "            min2=x\n",
        "            min1=dict1[x]\n",
        "    print(\"Minimum distance =\", min2)        \n",
        "    print(\"Here the closest point is\",min1,\"which has a distance of\",min2,\"from the origin.\")       \n",
        "points=[(5,3),(2,9),(-2,7),(-3,-4),(0,6),(7,-2)]\n",
        "my_function(points)"
      ],
      "metadata": {
        "colab": {
          "base_uri": "https://localhost:8080/"
        },
        "id": "nhzw8-gmcmTo",
        "outputId": "13d46037-949f-4987-a41f-9b66b59e52a2"
      },
      "execution_count": 5,
      "outputs": [
        {
          "output_type": "stream",
          "name": "stdout",
          "text": [
            "Minimum distance = 5.0\n",
            "Here the closest point is (-3, -4) which has a distance of 5.0 from the origin.\n"
          ]
        }
      ]
    }
  ]
}