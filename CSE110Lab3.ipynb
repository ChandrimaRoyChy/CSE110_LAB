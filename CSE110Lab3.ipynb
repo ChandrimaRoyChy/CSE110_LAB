{
  "nbformat": 4,
  "nbformat_minor": 0,
  "metadata": {
    "colab": {
      "provenance": []
    },
    "kernelspec": {
      "name": "python3",
      "display_name": "Python 3"
    },
    "language_info": {
      "name": "python"
    }
  },
  "cells": [
    {
      "cell_type": "code",
      "execution_count": null,
      "metadata": {
        "id": "W55lUheX-7fY",
        "colab": {
          "base_uri": "https://localhost:8080/"
        },
        "outputId": "b3af6e68-df3d-4560-cb8e-92672acaaba1"
      },
      "outputs": [
        {
          "output_type": "stream",
          "name": "stdout",
          "text": [
            "Enter a string:python\n",
            "nohtyp"
          ]
        }
      ],
      "source": [
        "#1\n",
        "str1=input(\"Enter a string:\")\n",
        "l=len(str1)\n",
        "for i in range(1,l+1):\n",
        "  print(str1[-i],end='')"
      ]
    },
    {
      "cell_type": "code",
      "source": [
        "#2\n",
        "str1=input('Enter a string:')\n",
        "num=int(input('Enter the number:'))\n",
        "for i in range(num,-1,-1):\n",
        "  print(str1[i],end=\"\")\n",
        "for i in range(num+1,len(str1)):\n",
        "  print(str1[i],end='')"
      ],
      "metadata": {
        "colab": {
          "base_uri": "https://localhost:8080/"
        },
        "id": "4vh9Po7bA8aY",
        "outputId": "1987813f-3744-49d1-93c2-c98c7afe3247"
      },
      "execution_count": null,
      "outputs": [
        {
          "output_type": "stream",
          "name": "stdout",
          "text": [
            "Enter a string:12345\n",
            "Enter the number:2\n",
            "32145"
          ]
        }
      ]
    },
    {
      "cell_type": "code",
      "source": [
        "#3\n",
        "flag=True\n",
        "str1=input('Enter a string:')\n",
        "for i in str1:\n",
        "  if i!='1' and i!='0':\n",
        "    flag=False\n",
        "    break\n",
        "if flag==True:\n",
        "  print('Binary number')\n",
        "else:\n",
        "  print('Not a binary number')"
      ],
      "metadata": {
        "colab": {
          "base_uri": "https://localhost:8080/"
        },
        "id": "H2CERiSQDbyV",
        "outputId": "4d759326-99a8-4ee1-995d-53bb9708928d"
      },
      "execution_count": null,
      "outputs": [
        {
          "output_type": "stream",
          "name": "stdout",
          "text": [
            "Enter a string:12344ab0\n",
            "Not a binary number\n"
          ]
        }
      ]
    },
    {
      "cell_type": "code",
      "source": [
        "#4\n",
        "str1=input('Enter a string:')\n",
        "l=len(str1)\n",
        "\n",
        "if str1[-2::1]==\"er\":\n",
        "  str2=str1[:-2:1]+\"est\"\n",
        "  print(str2)\n",
        "elif l<4:\n",
        "  print(str1)\n",
        "elif str1[-3::1]=='est':\n",
        "  print(str1)\n",
        "elif l>3:\n",
        "  str2=str1+'er'\n",
        "  print(str2)\n",
        "else:\n",
        "  print(str1)"
      ],
      "metadata": {
        "colab": {
          "base_uri": "https://localhost:8080/"
        },
        "id": "PdMISB7-HBI8",
        "outputId": "3bcdadcd-31cb-4045-af8f-e16521e53358"
      },
      "execution_count": null,
      "outputs": [
        {
          "output_type": "stream",
          "name": "stdout",
          "text": [
            "Enter a string:abc\n",
            "abc\n"
          ]
        }
      ]
    },
    {
      "cell_type": "code",
      "source": [
        "#5\n",
        "str1=input('Enter a string:')\n",
        "l=len(str1)\n",
        "for i in range(0,l):\n",
        "  for j in range(0,i+1):\n",
        "    print(str1[j],end='')\n",
        "  print()"
      ],
      "metadata": {
        "colab": {
          "base_uri": "https://localhost:8080/"
        },
        "id": "17b-AqNtG-SU",
        "outputId": "3b12e3b7-b571-48cd-ccfd-de6df1ca818e"
      },
      "execution_count": null,
      "outputs": [
        {
          "output_type": "stream",
          "name": "stdout",
          "text": [
            "Enter a string:BANGLA\n",
            "B\n",
            "BA\n",
            "BAN\n",
            "BANG\n",
            "BANGL\n",
            "BANGLA\n"
          ]
        }
      ]
    },
    {
      "cell_type": "code",
      "source": [
        "#6\n",
        "str1=input('Enter a string:')\n",
        "for i in str1:\n",
        "  print(i,':',ord(i))"
      ],
      "metadata": {
        "colab": {
          "base_uri": "https://localhost:8080/"
        },
        "id": "l5lkfSSoMlvo",
        "outputId": "b8319ad6-4a2d-4245-ebeb-34bb1ce9958e"
      },
      "execution_count": null,
      "outputs": [
        {
          "output_type": "stream",
          "name": "stdout",
          "text": [
            "Enter a string:hunger\n",
            "h : 104\n",
            "u : 117\n",
            "n : 110\n",
            "g : 103\n",
            "e : 101\n",
            "r : 114\n"
          ]
        }
      ]
    },
    {
      "cell_type": "code",
      "source": [
        "#7\n",
        "str1=input('Enter a string:')\n",
        "str1=str1.lower()\n",
        "string=\"\"\n",
        "for i in range(0,len(str1)):\n",
        "  if str1[i]=='z':\n",
        "    string+='a'\n",
        "  else:\n",
        "    string+=chr(ord(str1[i])+1)\n",
        "print(string)"
      ],
      "metadata": {
        "colab": {
          "base_uri": "https://localhost:8080/"
        },
        "id": "TImqZkUfNZr2",
        "outputId": "b8c58174-f4d1-4e0e-e1bd-22617ae06f45"
      },
      "execution_count": null,
      "outputs": [
        {
          "output_type": "stream",
          "name": "stdout",
          "text": [
            "Enter a string:xyzabc\n",
            "yzabcd\n"
          ]
        }
      ]
    },
    {
      "cell_type": "code",
      "source": [
        "#8\n",
        "str1=input('Enter a string:')\n",
        "l=len(str1)\n",
        "for i in range(1,l,2):\n",
        "  str2=ord(str1[i])-32\n",
        "  print(chr(str2),end='')"
      ],
      "metadata": {
        "colab": {
          "base_uri": "https://localhost:8080/"
        },
        "id": "SAQuszTxSX3z",
        "outputId": "3d4acc6c-e52c-4cf3-eab2-c08773ce492e"
      },
      "execution_count": null,
      "outputs": [
        {
          "output_type": "stream",
          "name": "stdout",
          "text": [
            "Enter a string:abcd\n",
            "BD"
          ]
        }
      ]
    },
    {
      "cell_type": "code",
      "source": [
        "#9\n",
        "str1=input(\"Please,enter a string:\")\n",
        "string=str1[0]\n",
        "for i in str1:\n",
        "  if(i)==string[-1]:\n",
        "    continue\n",
        "  else:\n",
        "    string+=i\n",
        "print(string)  "
      ],
      "metadata": {
        "id": "Jgg1D8SNJ1L7",
        "colab": {
          "base_uri": "https://localhost:8080/"
        },
        "outputId": "921abbfc-b7aa-418e-e416-a8cbc8a289a8"
      },
      "execution_count": null,
      "outputs": [
        {
          "output_type": "stream",
          "name": "stdout",
          "text": [
            "Please,enter a string:AAABBBBCDDBBECE\n",
            "ABCDBECE\n"
          ]
        }
      ]
    },
    {
      "cell_type": "code",
      "metadata": {
        "colab": {
          "base_uri": "https://localhost:8080/"
        },
        "outputId": "f6ada354-b7b3-45a5-d40c-845cb6c5c367",
        "id": "z6X5N57PJsVd"
      },
      "source": [
        "#10\n",
        "str1=input(\"Please,enter a string:\")\n",
        "n=str1.find(\",\")\n",
        "str2=str1[0:n]\n",
        "str3=str1[n+2:]\n",
        "if(len(str2)>len(str3)):\n",
        "  l=len(str3)\n",
        "  for i in range(0,l):\n",
        "    print(str2[i]+str3[i],end=\"\")\n",
        "  print(str2[l:])\n",
        "else:\n",
        "  l=len(str2)\n",
        "  for i in range(0,l):\n",
        "    print(str2[i]+str3[i],end=\"\")\n",
        "  print(str3[l:])     "
      ],
      "execution_count": null,
      "outputs": [
        {
          "output_type": "stream",
          "name": "stdout",
          "text": [
            "Please,enter a string:ABCD, efgh\n",
            "AeBfCgDh\n"
          ]
        }
      ]
    },
    {
      "cell_type": "code",
      "source": [
        "#11\n",
        "i = 10\n",
        "while(i >= -20):\n",
        "  if(i < 0):\n",
        "    test = \" != \"\n",
        "    test = str(i//2) + test + str(int(i/2))\n",
        "  else:\n",
        "    test = \" == \"\n",
        "    test = str(i//2) + test + str(int(i/2))\n",
        "  print(test)\n",
        "  i -= 5"
      ],
      "metadata": {
        "colab": {
          "base_uri": "https://localhost:8080/"
        },
        "id": "jiz_cicQZgPf",
        "outputId": "97ec9d0e-fbce-41dd-884d-dbb8c80de7ab"
      },
      "execution_count": null,
      "outputs": [
        {
          "output_type": "stream",
          "name": "stdout",
          "text": [
            "5 == 5\n",
            "2 == 2\n",
            "0 == 0\n",
            "-3 != -2\n",
            "-5 != -5\n",
            "-8 != -7\n",
            "-10 != -10\n"
          ]
        }
      ]
    },
    {
      "cell_type": "code",
      "source": [
        "#12\n",
        "test = \"\"\n",
        "i = 0\n",
        "j = 0\n",
        "k = 15\n",
        "test = \"-->\"\n",
        "while i < 5:\n",
        "  j = k - 1\n",
        "  k -= 1\n",
        "  while j > 10:\n",
        "    test = str(i + j) + \"-->\" + test\n",
        "    print(test)\n",
        "    j -= 1\n",
        "  i += 1"
      ],
      "metadata": {
        "colab": {
          "base_uri": "https://localhost:8080/"
        },
        "id": "bimga6pPPEB8",
        "outputId": "0edf7f44-5e6e-4f6f-b1b0-52d50c40d697"
      },
      "execution_count": null,
      "outputs": [
        {
          "output_type": "stream",
          "name": "stdout",
          "text": [
            "14-->-->\n",
            "13-->14-->-->\n",
            "12-->13-->14-->-->\n",
            "11-->12-->13-->14-->-->\n",
            "14-->11-->12-->13-->14-->-->\n",
            "13-->14-->11-->12-->13-->14-->-->\n",
            "12-->13-->14-->11-->12-->13-->14-->-->\n",
            "14-->12-->13-->14-->11-->12-->13-->14-->-->\n",
            "13-->14-->12-->13-->14-->11-->12-->13-->14-->-->\n",
            "14-->13-->14-->12-->13-->14-->11-->12-->13-->14-->-->\n"
          ]
        }
      ]
    },
    {
      "cell_type": "code",
      "source": [
        "#13\n",
        "test = \"\"\n",
        "i = 5\n",
        "j = 0\n",
        "k = 15\n",
        "while i< 10:\n",
        "  k-=1\n",
        "  j = k\n",
        "  while j > 10:\n",
        "    if (j % 2) == 0:\n",
        "      test = \"<--\"\n",
        "      test = str(test) + str(i) + str(2) + \"-->\" + str(int(j / 2)) \n",
        "    else:\n",
        "      test = \"-->\"\n",
        "      test = \"-->\" + str(int(i / 2)) + str(test) + str(j)\n",
        "    print(test)\n",
        "    j = j-1\n",
        "  i+=1"
      ],
      "metadata": {
        "colab": {
          "base_uri": "https://localhost:8080/"
        },
        "id": "2UlSlgVHBEJD",
        "outputId": "bdeb3e4f-c932-4943-cd06-66fa78c64279"
      },
      "execution_count": null,
      "outputs": [
        {
          "output_type": "stream",
          "name": "stdout",
          "text": [
            "<--52-->7\n",
            "-->2-->13\n",
            "<--52-->6\n",
            "-->2-->11\n",
            "-->3-->13\n",
            "<--62-->6\n",
            "-->3-->11\n",
            "<--72-->6\n",
            "-->3-->11\n",
            "-->4-->11\n"
          ]
        }
      ]
    },
    {
      "cell_type": "code",
      "source": [
        "#14\n",
        "test = \"\"\n",
        "i = 5\n",
        "j = 0\n",
        "k = 15\n",
        "while (i< 10):\n",
        "  k-=1\n",
        "  j = k\n",
        "  while (j > 10 ):\n",
        "    if j % 2 == 0:\n",
        "      test = \"<--\"\n",
        "      test = test + str( i) + '3' + \"-->\" + str(j // 3)\n",
        "    else:\n",
        "      test = \"-->\"\n",
        "      test = \"-->\" + str((i // 3)) + test + str(j)\n",
        "    print(test)\n",
        "    j -=1\n",
        "  i+=1"
      ],
      "metadata": {
        "colab": {
          "base_uri": "https://localhost:8080/"
        },
        "id": "MH0MwZh7XPYe",
        "outputId": "000afd95-a848-4c1f-eeeb-c0cce7340c3a"
      },
      "execution_count": null,
      "outputs": [
        {
          "output_type": "stream",
          "name": "stdout",
          "text": [
            "<--53-->4\n",
            "-->1-->13\n",
            "<--53-->4\n",
            "-->1-->11\n",
            "-->2-->13\n",
            "<--63-->4\n",
            "-->2-->11\n",
            "<--73-->4\n",
            "-->2-->11\n",
            "-->2-->11\n"
          ]
        }
      ]
    },
    {
      "cell_type": "code",
      "source": [
        "#15\n",
        "i=0\n",
        "j=0\n",
        "k=15\n",
        "test = '<--cat'\n",
        "while i < 5:\n",
        "  k -= 1\n",
        "  j = k\n",
        "  while j > 10:\n",
        "    if j % 2 == 0:\n",
        "      test += '-->'\n",
        "      test = test + str(i) + str(j // 2)\n",
        "    else:\n",
        "      test += '<--'\n",
        "      test = test + str(i // 2) + str(j)\n",
        "    print(test)\n",
        "    j-=1\n",
        "  i+=1\n"
      ],
      "metadata": {
        "colab": {
          "base_uri": "https://localhost:8080/"
        },
        "id": "l1Et2OUGZEt9",
        "outputId": "723a9b5c-dfca-4720-e21f-dc2c3bfb9bcb"
      },
      "execution_count": null,
      "outputs": [
        {
          "output_type": "stream",
          "name": "stdout",
          "text": [
            "<--cat-->07\n",
            "<--cat-->07<--013\n",
            "<--cat-->07<--013-->06\n",
            "<--cat-->07<--013-->06<--011\n",
            "<--cat-->07<--013-->06<--011<--013\n",
            "<--cat-->07<--013-->06<--011<--013-->16\n",
            "<--cat-->07<--013-->06<--011<--013-->16<--011\n",
            "<--cat-->07<--013-->06<--011<--013-->16<--011-->26\n",
            "<--cat-->07<--013-->06<--011<--013-->16<--011-->26<--111\n",
            "<--cat-->07<--013-->06<--011<--013-->16<--011-->26<--111<--111\n"
          ]
        }
      ]
    },
    {
      "cell_type": "markdown",
      "source": [
        "UNGRADED"
      ],
      "metadata": {
        "id": "KfQThYB3Bw0O"
      }
    },
    {
      "cell_type": "code",
      "source": [
        "#16\n",
        "str1=input(\"Please,enter the string:\").lower()\n",
        "char=input(\"Please,enter the character:\")\n",
        "\n",
        "new_str=\"\"\n",
        "\n",
        "if char in str1:\n",
        "  for i in str1:\n",
        "    if i!=char:\n",
        "      new_str+=i\n",
        "  print(new_str)\n",
        "else:\n",
        "    if len(str1)<3:\n",
        "      print(str1)\n",
        "    else:\n",
        "      new_str=str1[1:-1]\n",
        "      print(new_str)\n"
      ],
      "metadata": {
        "colab": {
          "base_uri": "https://localhost:8080/"
        },
        "id": "eQ722BggBv6o",
        "outputId": "dfa89b7e-0227-448f-dc8e-67631951fdce"
      },
      "execution_count": null,
      "outputs": [
        {
          "output_type": "stream",
          "name": "stdout",
          "text": [
            "Please,enter the string:hi\n",
            "Please,enter the character:a\n",
            "hi\n"
          ]
        }
      ]
    },
    {
      "cell_type": "code",
      "source": [
        "#17\n",
        "str1=input(\"Please,enter the string:\")\n",
        "char=input(\"Please,enter the character:\")\n",
        "\n",
        "new_str=\"\"\n",
        "\n",
        "for i in str1:\n",
        "    if i==char:\n",
        "      print(\"\")\n",
        "    else:\n",
        "      print(i,end=\"\")"
      ],
      "metadata": {
        "colab": {
          "base_uri": "https://localhost:8080/"
        },
        "id": "38xs8ikoya3M",
        "outputId": "32a56a91-ea06-4256-f870-7d67e50240a9"
      },
      "execution_count": null,
      "outputs": [
        {
          "output_type": "stream",
          "name": "stdout",
          "text": [
            "Please,enter the string:This-is-CSE110\n",
            "Please,enter the character:-\n",
            "This\n",
            "is\n",
            "CSE110"
          ]
        }
      ]
    },
    {
      "cell_type": "code",
      "source": [
        "#18\n",
        "str1=input(\"Please,enter the string:\")\n",
        "num=int(input(\"Please,enter the number:\"))\n",
        "\n",
        "new_str=\"\"\n",
        "if num%2==0:\n",
        "  new_str=str1*(num*2)\n",
        "else:\n",
        "  new_str=str1*(num*3)\n",
        "  \n",
        "print(new_str)"
      ],
      "metadata": {
        "colab": {
          "base_uri": "https://localhost:8080/"
        },
        "id": "rL_oenec3b4s",
        "outputId": "5fa15363-9553-478a-832f-b7671f8d4b80"
      },
      "execution_count": null,
      "outputs": [
        {
          "output_type": "stream",
          "name": "stdout",
          "text": [
            "Please,enter the string:CSE110\n",
            "Please,enter the number:3\n",
            "CSE110CSE110CSE110CSE110CSE110CSE110CSE110CSE110CSE110\n"
          ]
        }
      ]
    },
    {
      "cell_type": "code",
      "metadata": {
        "colab": {
          "base_uri": "https://localhost:8080/"
        },
        "outputId": "5d9b9af5-123f-4dd0-f54d-9d5961e82953",
        "id": "T7UzQNx-F9MM"
      },
      "source": [
        "#19\n",
        "user=input(\"Please,enter a string:\")\n",
        "new_list=[]\n",
        "new_str=''\n",
        "index=0\n",
        "\n",
        "for count in range(0,len(user)):\n",
        "  if (ord(user[count])>=65 and ord(user[count])<=90) or (ord(user[count])>=97 and ord(user[count])<=122):\n",
        "    if index%2==0:\n",
        "      capital=user[count].upper()\n",
        "      new_list.append(capital)\n",
        "      index+=1\n",
        "    else:\n",
        "      small=user[count].lower()\n",
        "      new_list.append(small)\n",
        "      index+=1\n",
        "  else:\n",
        "    new_list.append(user[count])\n",
        "\n",
        "for count in range(0,len(new_list)):\n",
        "  new_str=new_str+new_list[count]\n",
        "\n",
        "print(new_str)"
      ],
      "execution_count": 22,
      "outputs": [
        {
          "output_type": "stream",
          "name": "stdout",
          "text": [
            "Please,enter a string:Python programming is very easy\n",
            "PyThOn PrOgRaMmInG iS vErY eAsY\n"
          ]
        }
      ]
    }
  ]
}