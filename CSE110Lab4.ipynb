{
  "nbformat": 4,
  "nbformat_minor": 0,
  "metadata": {
    "colab": {
      "provenance": []
    },
    "kernelspec": {
      "name": "python3",
      "display_name": "Python 3"
    },
    "language_info": {
      "name": "python"
    }
  },
  "cells": [
    {
      "cell_type": "code",
      "execution_count": null,
      "metadata": {
        "colab": {
          "base_uri": "https://localhost:8080/"
        },
        "id": "A5df9pmJU1yj",
        "outputId": "ec4a7973-e371-4734-fddd-fec135d8ba15"
      },
      "outputs": [
        {
          "output_type": "stream",
          "name": "stdout",
          "text": [
            "Enter a number:3\n",
            "Numbers in the list: [3]\n",
            "Enter a number:5\n",
            "Numbers in the list: [3, 5]\n",
            "Enter a number:34\n",
            "Numbers in the list: [3, 5, 34]\n",
            "Enter a number:-11\n",
            "Numbers in the list: [3, 5, 34, -11]\n",
            "Enter a number:0\n",
            "Numbers in the list: [3, 5, 34, -11, 0]\n"
          ]
        }
      ],
      "source": [
        "#1\n",
        "list1=[]\n",
        "for i in range(5):\n",
        "  elements=int(input(\"Enter a number:\"))\n",
        "  list1.append(elements)\n",
        "  print(\"Numbers in the list:\",list1)"
      ]
    },
    {
      "cell_type": "code",
      "source": [
        "#2\n",
        "num=int(input('Enter the range:'))\n",
        "list1=[]\n",
        "for i in range(0,num):\n",
        "  elements=int(input('Enter the numbers:'))\n",
        "  list1.append(elements)\n",
        "l=len(list1)\n",
        "if l>3:\n",
        "  print(list1[2:-2])\n",
        "else:\n",
        "  print('Not Posssible')"
      ],
      "metadata": {
        "colab": {
          "base_uri": "https://localhost:8080/"
        },
        "id": "09ipIes8D-lk",
        "outputId": "0320adb6-80d6-4050-d0bb-076cb6cb20f7"
      },
      "execution_count": null,
      "outputs": [
        {
          "output_type": "stream",
          "name": "stdout",
          "text": [
            "Enter the range:7\n",
            "Enter the numbers:10\n",
            "Enter the numbers:20\n",
            "Enter the numbers:24\n",
            "Enter the numbers:25\n",
            "Enter the numbers:26\n",
            "Enter the numbers:35\n",
            "Enter the numbers:70\n",
            "[24, 25, 26]\n"
          ]
        }
      ]
    },
    {
      "cell_type": "code",
      "execution_count": null,
      "metadata": {
        "colab": {
          "base_uri": "https://localhost:8080/"
        },
        "id": "ICW-03YOznTp",
        "outputId": "15552469-beb9-4350-8af0-8e4917c31489"
      },
      "outputs": [
        {
          "output_type": "stream",
          "name": "stdout",
          "text": [
            "Enter numbers:5\n",
            "Enter numbers:-5\n",
            "Enter numbers:100\n",
            "Enter numbers:1\n",
            "Enter numbers:0\n",
            "Input data: [5, -5, 100, 1, 0]\n",
            "Printing values from the list in reverse order:\n",
            "0\n",
            "1\n",
            "100\n",
            "-5\n",
            "5\n"
          ]
        }
      ],
      "source": [
        "#3\n",
        "list1=[]\n",
        "for x in range(5):\n",
        "    elements=int(input(\"Enter numbers:\"))\n",
        "    list1.append(elements)\n",
        "print(\"Input data:\",list1)\n",
        "print(\"Printing values from the list in reverse order:\") \n",
        "for i in range(1,6):  \n",
        "    print(list1[-i])"
      ]
    },
    {
      "cell_type": "code",
      "source": [
        "#4\n",
        "given_list=[1, 2, 3, 4, 5, 6, 7]\n",
        "new_list=[]\n",
        "for i in given_list:\n",
        "  num=i**2\n",
        "  new_list.append(num)\n",
        "print(new_list)"
      ],
      "metadata": {
        "colab": {
          "base_uri": "https://localhost:8080/"
        },
        "id": "Yk7l2N-bHsUD",
        "outputId": "ee8f2962-a69b-451b-9660-06eb55538f5d"
      },
      "execution_count": null,
      "outputs": [
        {
          "output_type": "stream",
          "name": "stdout",
          "text": [
            "[1, 4, 9, 16, 25, 36, 49]\n"
          ]
        }
      ]
    },
    {
      "cell_type": "code",
      "source": [
        "#5\n",
        "given_list=[\"hey\", \"there\", \"\", \"what's\", \"\", \"up\", \"\", \"?\"]\n",
        "new_list=[]\n",
        "for i in given_list:\n",
        "  if i!=\"\" or i!='':\n",
        "    new_list.append(i)\n",
        "  else:\n",
        "    pass\n",
        "print(\"Original List:\",given_list)\n",
        "print(\"Modified List:\",new_list)"
      ],
      "metadata": {
        "colab": {
          "base_uri": "https://localhost:8080/"
        },
        "id": "aVJNSjhII4Fs",
        "outputId": "3b607201-1c07-4bbb-8850-c1d498e52003"
      },
      "execution_count": null,
      "outputs": [
        {
          "output_type": "stream",
          "name": "stdout",
          "text": [
            "Original List: ['hey', 'there', '', \"what's\", '', 'up', '', '?']\n",
            "Modified List: ['hey', 'there', \"what's\", 'up', '?']\n"
          ]
        }
      ]
    },
    {
      "cell_type": "code",
      "execution_count": null,
      "metadata": {
        "colab": {
          "base_uri": "https://localhost:8080/"
        },
        "id": "ytlp8AbysxRu",
        "outputId": "aadcfa12-0311-4687-f824-5d4bd79345d7"
      },
      "outputs": [
        {
          "output_type": "stream",
          "name": "stdout",
          "text": [
            "Enter a string containing 7 numbers:\"7, 13, 2, 10, 6, -11, 0\"\n",
            "My List: [7, 13, 2, 10, 6, -11, 0]\n",
            "Largest number in the list is 13 which was found at index 1\n"
          ]
        }
      ],
      "source": [
        "#6\n",
        "string=input(\"Enter a string containing 7 numbers:\")\n",
        "string=string[1:len(string)-1]\n",
        "\n",
        "list1=string.split(',')\n",
        "list2=[]\n",
        "for i in range(len(list1)):\n",
        "  list2.append(int(list1[i]))\n",
        "print(\"My List:\",list2)\n",
        "max=list2[0]\n",
        "list3=list2\n",
        "for j in range(len(list2)):\n",
        "  if list3[j]>max:\n",
        "    max=list3[j]\n",
        "    print(f\"Largest number in the list is {max} which was found at index {j}\")  \n"
      ]
    },
    {
      "cell_type": "code",
      "source": [
        "#7\n",
        "list_one= [1, 3, 5, 7, 9, 10]\n",
        "list_two=[2, 4, 6, 8]\n",
        "new_list=[]\n",
        "for i in range(len(list_one)-1):\n",
        "  new_list.append(list_one[i])\n",
        "for i in range(len(list_two)):\n",
        "  new_list.append(list_two[i])\n",
        "print(new_list)"
      ],
      "metadata": {
        "colab": {
          "base_uri": "https://localhost:8080/"
        },
        "id": "Cg5CZR9STvd3",
        "outputId": "e81d7ada-bf71-41f6-a58e-d95cddb2902d"
      },
      "execution_count": null,
      "outputs": [
        {
          "output_type": "stream",
          "name": "stdout",
          "text": [
            "[1, 3, 5, 7, 9, 2, 4, 6, 8]\n"
          ]
        }
      ]
    },
    {
      "cell_type": "code",
      "source": [
        "#8\n",
        "list_one = [1, 2, 3, 4, 5, 6, 7, 8, 9]\n",
        "list_two = [10, 11, 12, -13, -14, -15, -16]\n",
        "new_list=[]\n",
        "for i in list_one:\n",
        "  if i%2==0:\n",
        "    new_list.append(i)\n",
        "for i in list_two:\n",
        "  if i%2==0:\n",
        "    new_list.append(i)\n",
        "print(new_list)"
      ],
      "metadata": {
        "colab": {
          "base_uri": "https://localhost:8080/"
        },
        "id": "WxPptDMjVZuM",
        "outputId": "77b433f5-fd9e-434a-f66d-c86309fcb41e"
      },
      "execution_count": null,
      "outputs": [
        {
          "output_type": "stream",
          "name": "stdout",
          "text": [
            "[2, 4, 6, 8, 10, 12, -14, -16]\n"
          ]
        }
      ]
    },
    {
      "cell_type": "code",
      "execution_count": null,
      "metadata": {
        "id": "fcPie0yUEBj6",
        "colab": {
          "base_uri": "https://localhost:8080/"
        },
        "outputId": "1df3f4a4-a851-4568-a5c9-78255deadb34"
      },
      "outputs": [
        {
          "output_type": "stream",
          "name": "stdout",
          "text": [
            "Enter the numbers:7 12 4 55 96 2 11 61 33 42\n",
            "Original List: [7, 12, 4, 55, 96, 2, 11, 61, 33, 42]\n",
            "Modified list: [7, 55, 11, 61, 33]\n"
          ]
        }
      ],
      "source": [
        "#9\n",
        "string=input(\"Enter the numbers:\")\n",
        "list1=[]\n",
        "value=''\n",
        "for i in string:\n",
        "  if i==' ':\n",
        "    list1.append(int(value))\n",
        "    value=''\n",
        "  else:\n",
        "    value=value+i\n",
        "list1.append(int(value))\n",
        "print(\"Original List:\",list1)\n",
        "list2=[]\n",
        "for j in range(len(list1)):\n",
        "  if list1[j]%2==1:\n",
        "    list2.append(list1[j])\n",
        "print(\"Modified list:\",list2)    "
      ]
    },
    {
      "cell_type": "code",
      "execution_count": null,
      "metadata": {
        "colab": {
          "base_uri": "https://localhost:8080/"
        },
        "id": "EUbQbz5hU1zP",
        "outputId": "a7e1b7d0-a2f0-4bfe-8b9e-eafded187be2"
      },
      "outputs": [
        {
          "output_type": "stream",
          "name": "stdout",
          "text": [
            "Enter the numbers:0, 0, 1, 2, 3, 4, 4, 5, 6, 6, 6, 7, 8, 9, 4, 4\n",
            "Input list: [0, 0, 1, 2, 3, 4, 4, 5, 6, 6, 6, 7, 8, 9, 4, 4]\n",
            "Modified list: [0, 1, 2, 3, 4, 5, 6, 7, 8, 9]\n"
          ]
        }
      ],
      "source": [
        "#10\n",
        "string=input(\"Enter the numbers:\")\n",
        "list1=string.split(\",\")\n",
        "list2=[]\n",
        "for i in range(len(list1)):\n",
        "  list2.append(int(list1[i]))\n",
        "print(\"Input list:\",list2)\n",
        "new_list=[]\n",
        "for j in range(len(list2)):\n",
        "  if list2[j] not in new_list:\n",
        "    new_list.append(list2[j])\n",
        "print(\"Modified list:\",new_list)   "
      ]
    },
    {
      "cell_type": "code",
      "source": [
        "#11\n",
        "list_one=[1, 4, 3, 2, 6]\n",
        "list_two=[5, 6, 9, 8, 7]\n",
        "flag=False\n",
        "for i in list_one:\n",
        "  if i in list_two:\n",
        "    flag=True\n",
        "    print(flag)\n",
        "if flag==False:\n",
        "  print(flag)"
      ],
      "metadata": {
        "colab": {
          "base_uri": "https://localhost:8080/"
        },
        "id": "ezG3QCcXb9DY",
        "outputId": "caf908d2-c30c-4657-e302-499818e79de3"
      },
      "execution_count": null,
      "outputs": [
        {
          "output_type": "stream",
          "name": "stdout",
          "text": [
            "True\n"
          ]
        }
      ]
    },
    {
      "cell_type": "code",
      "source": [
        "#12\n",
        "myList = [0, 0, 0, 0, 0, 0, 0, 0, 0, 0]\n",
        "index1 = 0\n",
        "index2 = 0\n",
        "index1 = 1\n",
        "while(index1<10):\n",
        "  myList[index1] = index1+4\n",
        "  index2 = 1\n",
        "  while(index2<index1):\n",
        "    myList[index1] = myList[index1] + myList[index2]-index1\n",
        "    index2 = index2+1\n",
        "  print(myList[index1])\n",
        "  index1 = index1+1\n"
      ],
      "metadata": {
        "colab": {
          "base_uri": "https://localhost:8080/"
        },
        "id": "etQc-Uozgk2N",
        "outputId": "dd1cb8a2-1c31-44eb-a61e-27485f356578"
      },
      "execution_count": null,
      "outputs": [
        {
          "output_type": "stream",
          "name": "stdout",
          "text": [
            "5\n",
            "9\n",
            "15\n",
            "25\n",
            "43\n",
            "77\n",
            "143\n",
            "273\n",
            "531\n"
          ]
        }
      ]
    },
    {
      "cell_type": "code",
      "source": [
        "#13\n",
        "myList=[0, 0, 0, 0, 0, 0, 0, 0, 0, 0]\n",
        "index1 = 0\n",
        "index2 = 0\n",
        "index1 = 1\n",
        "while (index1 < 10):\n",
        "  myList[index1] = index1 + 4\n",
        "  index2 = 1\n",
        "  while (index2 < index1):\n",
        "    myList[index1] = myList[index1-1] - myList[index2-1] - index1\n",
        "    index2 = index2 + 1\n",
        "  print(myList[index1])\n",
        "  index1 = index1 + 1"
      ],
      "metadata": {
        "colab": {
          "base_uri": "https://localhost:8080/"
        },
        "id": "ZGQss7ELiPbh",
        "outputId": "a3579517-aee7-4da9-8a5f-e8b4d7fc5b87"
      },
      "execution_count": null,
      "outputs": [
        {
          "output_type": "stream",
          "name": "stdout",
          "text": [
            "5\n",
            "3\n",
            "-5\n",
            "-12\n",
            "-12\n",
            "-6\n",
            "-1\n",
            "-3\n",
            "-11\n"
          ]
        }
      ]
    },
    {
      "cell_type": "code",
      "source": [
        "#14\n",
        "myList = [0, 0, 0, 0, 0, 0, 0, 0, 0, 0]\n",
        "b = []\n",
        "index1 = 0\n",
        "index2 = 0\n",
        "index1 = 1\n",
        "b = myList\n",
        "while(index1<10):\n",
        "  myList[index1] = index1+2\n",
        "  index2 = 1\n",
        "  while(index2<index1):\n",
        "    myList[index1] = b[index1]+myList[index2]-index1\n",
        "    index2 = index2+1\n",
        "  print(myList[index1])\n",
        "  index1 = index1+1"
      ],
      "metadata": {
        "colab": {
          "base_uri": "https://localhost:8080/"
        },
        "id": "IpYOfnFUj8AM",
        "outputId": "fb4c19cf-02f7-4dd1-fd05-45d3e685c075"
      },
      "execution_count": null,
      "outputs": [
        {
          "output_type": "stream",
          "name": "stdout",
          "text": [
            "3\n",
            "5\n",
            "7\n",
            "9\n",
            "11\n",
            "13\n",
            "15\n",
            "17\n",
            "19\n"
          ]
        }
      ]
    },
    {
      "cell_type": "code",
      "source": [
        "#15\n",
        "myList = [0, 0, 0, 0, 0, 0, 0, 0, 0, 0]\n",
        "b = []\n",
        "index1 = 0\n",
        "index2 = 0\n",
        "index1 = 1\n",
        "b = myList\n",
        "while (index1 < 10):\n",
        "  myList[index1] = index1 + 1\n",
        "  index2 = 1\n",
        "  while (index2 < index1):\n",
        "    myList[index1] = b[index2-1] + myList[index2] - index1\n",
        "    index2 = index2 + 1\n",
        "  print(myList[index1])\n",
        "  index1 = index1 + 1\n"
      ],
      "metadata": {
        "colab": {
          "base_uri": "https://localhost:8080/"
        },
        "id": "1O6oeYv1kYzs",
        "outputId": "3f359d10-e927-4ade-c66e-79450fc0188d"
      },
      "execution_count": null,
      "outputs": [
        {
          "output_type": "stream",
          "name": "stdout",
          "text": [
            "2\n",
            "0\n",
            "-1\n",
            "-5\n",
            "-11\n",
            "-22\n",
            "-40\n",
            "-70\n",
            "-119\n"
          ]
        }
      ]
    },
    {
      "cell_type": "markdown",
      "source": [
        "**UNGRADED**"
      ],
      "metadata": {
        "id": "FCkzFmYCR1pE"
      }
    },
    {
      "cell_type": "code",
      "source": [
        "#16\n",
        "list1=[]\n",
        "for i in range(7):\n",
        "  num=int(input(\"Enter numbers:\"))\n",
        "  list1.append(num)\n",
        "print(\"My list:\",list1)\n",
        "\n",
        "max1=0\n",
        "for i in range(len(list1)):\n",
        "  if list1[i]>max1:\n",
        "    max1=list1[i]\n",
        "\n",
        "max2=0\n",
        "index=0\n",
        "for i in range(len(list1)):\n",
        "  if list1[i]>max2 and max1!=list1[i]:\n",
        "    max2=list1[i]\n",
        "    index=i\n",
        "print(f\"Second largest number in the list is {max2} which was found at index {index}\")"
      ],
      "metadata": {
        "colab": {
          "base_uri": "https://localhost:8080/"
        },
        "id": "0ekP5MQ9B8dS",
        "outputId": "453395c2-f533-4557-a12b-2d36174dea56"
      },
      "execution_count": null,
      "outputs": [
        {
          "output_type": "stream",
          "name": "stdout",
          "text": [
            "Enter numbers:7\n",
            "Enter numbers:13\n",
            "Enter numbers:2\n",
            "Enter numbers:10\n",
            "Enter numbers:6\n",
            "Enter numbers:-11\n",
            "Enter numbers:0\n",
            "My list: [7, 13, 2, 10, 6, -11, 0]\n",
            "Second largest number in the list is 10 which was found at index 3\n"
          ]
        }
      ]
    },
    {
      "cell_type": "code",
      "execution_count": null,
      "metadata": {
        "id": "yiS5TWSDU1zY",
        "colab": {
          "base_uri": "https://localhost:8080/"
        },
        "outputId": "2012c3e3-3f32-4137-9aaf-1671de059b0f"
      },
      "outputs": [
        {
          "output_type": "stream",
          "name": "stdout",
          "text": [
            "Enter numbers:7\n",
            "Enter numbers:13\n",
            "Enter numbers:-5\n",
            "Enter numbers:10\n",
            "Enter numbers:6\n",
            "My list: [7, 13, -5, 10, 6]\n",
            "Smallest number in the list is -5 which was found at index 2\n",
            "Largest number in the list is 13 which was found at index  1\n"
          ]
        }
      ],
      "source": [
        "#17\n",
        "list1=[]\n",
        "for i in range(5):\n",
        "  num=int(input(\"Enter numbers:\"))\n",
        "  list1.append(num)\n",
        "print(\"My list:\",list1)\n",
        "\n",
        "\n",
        "smallest=0\n",
        "index1=0\n",
        "for i in range(len(list1)):\n",
        "  if list1[i]<smallest:\n",
        "    smallest=list1[i]\n",
        "    index1=i\n",
        "print(\"Smallest number in the list is\",smallest,\"which was found at index\",index1)\n",
        "\n",
        "largest=0\n",
        "index2=0\n",
        "for i in range(len(list1)):\n",
        "  if list1[i]>largest:\n",
        "    largest=list1[i]\n",
        "    index2=i\n",
        "print(\"Largest number in the list is\",largest,\"which was found at index \",index2)"
      ]
    },
    {
      "cell_type": "code",
      "execution_count": 1,
      "metadata": {
        "id": "3iueGiPPGG66",
        "colab": {
          "base_uri": "https://localhost:8080/"
        },
        "outputId": "3a57d0fe-06af-4972-a633-49232227b5ab"
      },
      "outputs": [
        {
          "output_type": "stream",
          "name": "stdout",
          "text": [
            "Enter the range:4\n",
            "Enter the elements:A\n",
            "Enter the elements:B\n",
            "Enter the elements:C\n",
            "Enter the elements:D\n",
            "Enter the elements:C\n",
            "Enter the elements:E\n",
            "Enter the elements:F\n",
            "Enter the elements:B\n",
            "['C', 'B']\n"
          ]
        }
      ],
      "source": [
        "#18\n",
        "list1=[]\n",
        "user=int(input(\"Enter the range:\"))\n",
        "for i in range(user):\n",
        "  elements1=input(\"Enter the elements:\")\n",
        "  list1.append(elements1)\n",
        "\n",
        "list2=[]\n",
        "for i in range(user):\n",
        "  elements2=input(\"Enter the elements:\")\n",
        "  list2.append(elements2)\n",
        "\n",
        "new_list=[]\n",
        "for x in list2:\n",
        "  if x in list1:\n",
        "    new_list.append(x)\n",
        "\n",
        "print(new_list)"
      ]
    },
    {
      "cell_type": "code",
      "execution_count": 2,
      "metadata": {
        "id": "b2TwkUqnGZU-",
        "colab": {
          "base_uri": "https://localhost:8080/"
        },
        "outputId": "579ba646-dfaf-493d-ce3b-0b6ea933e014"
      },
      "outputs": [
        {
          "output_type": "stream",
          "name": "stdout",
          "text": [
            "[1, 2, 4, 5, 7, 99, 200, 303, 70, 3, 500, -5]\n"
          ]
        }
      ],
      "source": [
        "#19\n",
        "list_one = [1, 2 , 2, 4, 5, 5, 7, 99, 200, 303, 70]\n",
        "list_two = [1, 1, 2, 3, 3, 3, 4, 5, 200, 500, -5]\n",
        "\n",
        "unique_list=[]\n",
        "\n",
        "for x in list_one:\n",
        "  if x not in unique_list:\n",
        "    unique_list.append(x)\n",
        "\n",
        "for x in list_two:\n",
        "  if x not in unique_list:\n",
        "    unique_list.append(x)\n",
        "\n",
        "print(unique_list)"
      ]
    },
    {
      "cell_type": "code",
      "execution_count": 15,
      "metadata": {
        "id": "sV24bMYu2WPf",
        "colab": {
          "base_uri": "https://localhost:8080/"
        },
        "outputId": "1705b946-ff0b-4e30-9310-3872b008dc8c"
      },
      "outputs": [
        {
          "output_type": "stream",
          "name": "stdout",
          "text": [
            "Please,enter the string:\" [1, 2 , 3, 50, 4] \"\n",
            "Original data:  [1, 2 , 3, 50, 4] \n",
            "After removing square brackets: 1, 2 , 3, 50, 4\n",
            "Numbers in string format with extra white spaces: ['1', ' 2 ', ' 3', ' 50', ' 4']\n",
            "Final data (numbers in list format): [1, 2, 3, 50, 4]\n"
          ]
        }
      ],
      "source": [
        "#20\n",
        "user=input(\"Please,enter the string:\")\n",
        "list1=user.strip('\"\"')\n",
        "\n",
        "list2=list1.strip(\"[ ]\")\n",
        "list3=list2.split(',')\n",
        "list4=[]\n",
        "\n",
        "for i in range(len(list3)):\n",
        "  if list3[i] not in list4:\n",
        "    list4.append(int(list3[i]))\n",
        "\n",
        "print('Original data:',list1)\n",
        "print('After removing square brackets:',list2)\n",
        "print('Numbers in string format with extra white spaces:',list3)\n",
        "print('Final data (numbers in list format):',list4)"
      ]
    },
    {
      "cell_type": "code",
      "source": [
        "#21\n",
        "user=input(\"Please,enter the string:\")\n",
        "list1=user.split(',')\n",
        "list2=[]\n",
        "\n",
        "for i in range(len(list1)):\n",
        "  list2.append(int(list1[i]))\n",
        "print(\"Given numbers in list:\",list2)\n",
        "\n",
        "list3=[]\n",
        "for i in range(len(list2)):\n",
        "  if list2[i] not in list3:\n",
        "    list3.append(list2[i])\n",
        "print(\"List without any dupliacte values:\",list3)"
      ],
      "metadata": {
        "colab": {
          "base_uri": "https://localhost:8080/"
        },
        "id": "WgCXaCrpPzqG",
        "outputId": "60ac5eab-c4f3-426f-8ebb-861bcde1f3bf"
      },
      "execution_count": 19,
      "outputs": [
        {
          "output_type": "stream",
          "name": "stdout",
          "text": [
            "Please,enter the string:0, 0, 1, 2, 3, 4, 4, 5, 6, 6, 6, 7, 8, 9, 4, 4\n",
            "Given numbers in list: [0, 0, 1, 2, 3, 4, 4, 5, 6, 6, 6, 7, 8, 9, 4, 4]\n",
            "List without any dupliacte values: [0, 1, 2, 3, 4, 5, 6, 7, 8, 9]\n"
          ]
        }
      ]
    }
  ]
}