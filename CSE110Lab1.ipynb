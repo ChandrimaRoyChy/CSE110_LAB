{
  "nbformat": 4,
  "nbformat_minor": 0,
  "metadata": {
    "colab": {
      "provenance": []
    },
    "kernelspec": {
      "name": "python3",
      "display_name": "Python 3"
    },
    "language_info": {
      "name": "python"
    }
  },
  "cells": [
    {
      "cell_type": "code",
      "execution_count": null,
      "metadata": {
        "id": "uLDKyzUX2yo8",
        "colab": {
          "base_uri": "https://localhost:8080/"
        },
        "outputId": "2ed4f1cc-320e-4bfa-d1cb-45ec3ff32b4c"
      },
      "outputs": [
        {
          "output_type": "stream",
          "name": "stdout",
          "text": [
            "Sir,please enter the first number:30\n",
            "Sir,please enter the second number:2\n",
            "Sum= 32\n",
            "Product= 60\n",
            "Difference= 28\n"
          ]
        }
      ],
      "source": [
        "#1\n",
        "var1=int(input('Sir,please enter the first number:'))\n",
        "var2=int(input('Sir,please enter the second number:'))\n",
        "\n",
        "sum=var1+var2\n",
        "product=var1*var2\n",
        "difference=var1-var2\n",
        "\n",
        "print(\"Sum=\",sum)\n",
        "print(\"Product=\",product)\n",
        "print(\"Difference=\",difference)"
      ]
    },
    {
      "cell_type": "code",
      "source": [
        "#2\n",
        "import math\n",
        "radius=float(input(\"Sir,please enter the radius:\"))\n",
        "\n",
        "area=math.pi*radius**2\n",
        "circumference=2*math.pi*radius\n",
        "\n",
        "print(\"Area is\",area)\n",
        "print(\"Circumference is\",circumference)"
      ],
      "metadata": {
        "colab": {
          "base_uri": "https://localhost:8080/"
        },
        "id": "KlTp5PMG55VG",
        "outputId": "3c562e62-67b2-4696-a3d0-d3d9a7605181"
      },
      "execution_count": null,
      "outputs": [
        {
          "output_type": "stream",
          "name": "stdout",
          "text": [
            "Sir,please enter the radius:3.5\n",
            "Area is 38.48451000647496\n",
            "Circumference is 21.991148575128552\n"
          ]
        }
      ]
    },
    {
      "cell_type": "code",
      "source": [
        "#3\n",
        "var1=int(input('Sir,please enter the first number:'))\n",
        "var2=int(input('Sir,please enter the second number:'))\n",
        "\n",
        "if var1>var2:\n",
        "  print(\"First is greater\")\n",
        "elif var1<var2:\n",
        "  print(\"Second is greater\")\n",
        "else:\n",
        "  print(\"The numbers are equal\")"
      ],
      "metadata": {
        "colab": {
          "base_uri": "https://localhost:8080/"
        },
        "id": "FQHgUOde8wEF",
        "outputId": "a9f35642-79c2-4372-e156-f52a0daa22e8"
      },
      "execution_count": null,
      "outputs": [
        {
          "output_type": "stream",
          "name": "stdout",
          "text": [
            "Sir,please enter the first number:11\n",
            "Sir,please enter the second number:11\n",
            "The numbers are equal\n"
          ]
        }
      ]
    },
    {
      "cell_type": "code",
      "source": [
        "#4\n",
        "var1=int(input('Sir,please enter the first number:'))\n",
        "var2=int(input('Sir,please enter the second number:'))\n",
        "\n",
        "if var1>var2:\n",
        "  difference=var1-var2\n",
        "else:\n",
        "  difference=var2-var1\n",
        "\n",
        "print(difference)"
      ],
      "metadata": {
        "colab": {
          "base_uri": "https://localhost:8080/"
        },
        "id": "AKjIjfjv-i9W",
        "outputId": "664a276b-94c1-4373-e6ae-5d4a07960347"
      },
      "execution_count": null,
      "outputs": [
        {
          "output_type": "stream",
          "name": "stdout",
          "text": [
            "Sir,please enter the first number:6\n",
            "Sir,please enter the second number:2\n",
            "4\n"
          ]
        }
      ]
    },
    {
      "cell_type": "code",
      "source": [
        "#5\n",
        "var=int(input('Sir,please enter the number:'))\n",
        "\n",
        "if var%2==0:\n",
        "  print(\"The number is even\")\n",
        "else:\n",
        "  print(\"The number is odd\")"
      ],
      "metadata": {
        "colab": {
          "base_uri": "https://localhost:8080/"
        },
        "id": "jxWNZIxqAYse",
        "outputId": "f995cc29-cdd5-436e-d770-e0b9ecebdd21"
      },
      "execution_count": null,
      "outputs": [
        {
          "output_type": "stream",
          "name": "stdout",
          "text": [
            "Sir,please enter the first number:-44\n",
            "The number is even\n"
          ]
        }
      ]
    },
    {
      "cell_type": "code",
      "source": [
        "#6\n",
        "var=int(input('Sir,please enter the number:'))\n",
        "\n",
        "if var%2==0 or var%5==0:\n",
        "  print(var)\n",
        "else:\n",
        "  print(\"Not a multiple of 2 OR 5\") "
      ],
      "metadata": {
        "colab": {
          "base_uri": "https://localhost:8080/"
        },
        "id": "gQtIXH5bBJje",
        "outputId": "e0572ac4-6dd7-4efd-f37c-0e3cdb2fc726"
      },
      "execution_count": null,
      "outputs": [
        {
          "output_type": "stream",
          "name": "stdout",
          "text": [
            "Sir,please enter the number:3\n",
            "Not a multiple of 2 OR 5\n"
          ]
        }
      ]
    },
    {
      "cell_type": "code",
      "source": [
        "#7\n",
        "var=int(input('Sir,please enter the number:'))\n",
        "\n",
        "if var%2==0 and var%5==0:\n",
        "  print(\"Multiple of 2and 5 both\")\n",
        "elif var%2==0 or var%5==0:\n",
        "  print(var)\n",
        "else:\n",
        "  print(\"Not a multiple we want\")"
      ],
      "metadata": {
        "colab": {
          "base_uri": "https://localhost:8080/"
        },
        "id": "bJwy84SlCBMp",
        "outputId": "82354f82-36df-48ff-cd28-9c62a8cad531"
      },
      "execution_count": null,
      "outputs": [
        {
          "output_type": "stream",
          "name": "stdout",
          "text": [
            "Sir,please enter the number:6\n",
            "6\n"
          ]
        }
      ]
    },
    {
      "cell_type": "code",
      "source": [
        "#8\n",
        "var=int(input('Sir,please enter the number:'))\n",
        "\n",
        "if var%2==0 and var%5==0:\n",
        "  print(var)\n",
        "else:\n",
        "  print(\"Not multiple of 2 and 5 both\")"
      ],
      "metadata": {
        "colab": {
          "base_uri": "https://localhost:8080/"
        },
        "id": "PoZwak0yDTNR",
        "outputId": "98a8a7bf-8b8e-4f04-c51b-87a0c4261b74"
      },
      "execution_count": null,
      "outputs": [
        {
          "output_type": "stream",
          "name": "stdout",
          "text": [
            "Sir,please enter the number:15\n",
            "Not multiple of 2 and 5 both\n"
          ]
        }
      ]
    },
    {
      "cell_type": "code",
      "source": [
        "#9\n",
        "time=int(input('Sir,please enter the time in seconds:'))\n",
        "\n",
        "hours=time//3600\n",
        "minutes1=time%3600\n",
        "minutes=minutes1//60\n",
        "seconds=minutes1%60\n",
        "\n",
        "print(\"Hours:\",hours,\"Minutes:\",minutes,\"Seconds:\",seconds)"
      ],
      "metadata": {
        "colab": {
          "base_uri": "https://localhost:8080/"
        },
        "id": "XWwUekjbD5aY",
        "outputId": "d8823c6d-df29-4412-950a-b0529f098297"
      },
      "execution_count": null,
      "outputs": [
        {
          "output_type": "stream",
          "name": "stdout",
          "text": [
            "Sir,please enter the time in seconds:10000\n",
            "Hours: 2 Minutes: 46 Seconds: 40\n"
          ]
        }
      ]
    },
    {
      "cell_type": "code",
      "source": [
        "#10\n",
        "hours=int(input('Sir,please enter the working hours:'))\n",
        "\n",
        "if hours<0:\n",
        "  print(\"Hour cannot be negative\")\n",
        "elif hours>168:\n",
        "  print(\"Impossible to work more than 168 hours weekly\")\n",
        "elif hours<=40:\n",
        "  salary=hours*200\n",
        "  print(salary)\n",
        "elif hours>40:\n",
        "  salary=8000+(hours-40)*300\n",
        "  print(salary)"
      ],
      "metadata": {
        "colab": {
          "base_uri": "https://localhost:8080/"
        },
        "id": "s7yPQP98FcPs",
        "outputId": "035d723b-75d4-4b0a-858c-ca8155b52e82"
      },
      "execution_count": null,
      "outputs": [
        {
          "output_type": "stream",
          "name": "stdout",
          "text": [
            "Sir,please enter the working hours:168\n",
            "46400\n"
          ]
        }
      ]
    },
    {
      "cell_type": "code",
      "source": [
        "#11\n",
        "s=int(input(\"Sir,please enter the value of S:\"))\n",
        "\n",
        "if s<100:\n",
        "  L=3000-125*(s**2)\n",
        "else:\n",
        "  L=12000/(4+(s**2)/14900)\n",
        "\n",
        "print(L)"
      ],
      "metadata": {
        "colab": {
          "base_uri": "https://localhost:8080/"
        },
        "id": "PT2R3i0RJWCf",
        "outputId": "c416572a-e770-4da5-eaf1-89fa94f302a1"
      },
      "execution_count": null,
      "outputs": [
        {
          "output_type": "stream",
          "name": "stdout",
          "text": [
            "Sir,please enter the value of S:3\n",
            "1875\n"
          ]
        }
      ]
    },
    {
      "cell_type": "code",
      "source": [
        "#12\n",
        "hour=int(input('Sir,please enter the working hours:'))\n",
        "\n",
        "if hour<0 or hour>23:\n",
        "  print(\"Wrong Time\")\n",
        "elif hour>=4 and hour<=6:\n",
        "  print(\"Breakfast\")\n",
        "elif hour>=12 and hour<=13:\n",
        "  print(\"Lunch\")\n",
        "elif hour>=16 and hour<=17:\n",
        "  print(\"Snacks\")\n",
        "elif hour>=19 and hour<=20:\n",
        "  print(\"Dinner\")\n",
        "else:\n",
        "  print(\"Patience is a virtue\")"
      ],
      "metadata": {
        "colab": {
          "base_uri": "https://localhost:8080/"
        },
        "id": "m0rwXQ3qMOj0",
        "outputId": "7b17db78-e52b-49b6-d51e-8cb69732d7a9"
      },
      "execution_count": null,
      "outputs": [
        {
          "output_type": "stream",
          "name": "stdout",
          "text": [
            "Sir,please enter the working hours:23\n",
            "Patience is a virtue\n"
          ]
        }
      ]
    },
    {
      "cell_type": "code",
      "source": [
        "#13\n",
        "marks=int(input(\"Sir,please enter the mark:\"))\n",
        "\n",
        "if marks>=90 and marks<=100:\n",
        "  print(\"A\")\n",
        "elif marks>=80 and marks<=89:\n",
        "   print(\"B\")\n",
        "elif marks>=70 and marks<=79:\n",
        "  print(\"C\")\n",
        "elif marks>=60 and marks<=69:\n",
        "  print(\"D\")\n",
        "elif marks>=50 and marks<=59:\n",
        "  print(\"E\")\n",
        "elif marks<50:\n",
        "  print(\"F\")\n",
        "else:\n",
        "  print(\"Invaild marks\")"
      ],
      "metadata": {
        "colab": {
          "base_uri": "https://localhost:8080/"
        },
        "id": "945tgJGmPQnr",
        "outputId": "8d29e2e2-1755-4579-80ae-233d1700f13a"
      },
      "execution_count": null,
      "outputs": [
        {
          "output_type": "stream",
          "name": "stdout",
          "text": [
            "Sir,please enter the mark:98\n",
            "A\n"
          ]
        }
      ]
    },
    {
      "cell_type": "code",
      "source": [
        "#14\n",
        "d=int(input(\"Sir,please enter the distance in meter:\"))\n",
        "s=int(input(\"Sir,please enter the time in second:\"))\n",
        "\n",
        "v=d/s\n",
        "vel=(v*3600)/1000\n",
        "print(vel,\"km/h\")\n",
        "\n",
        "if vel<60:\n",
        "  print(\"Too slow. Needs more changes.\")\n",
        "elif vel>=60 and vel<=90:\n",
        "  print(\"Velocity is okay. The car is ready!\")\n",
        "elif vel>90:\n",
        "  print(\"Too fast. Only a few changes should suffice.\")"
      ],
      "metadata": {
        "colab": {
          "base_uri": "https://localhost:8080/"
        },
        "id": "wgOHbNOlSjvP",
        "outputId": "7e034e82-fedd-4032-bb2f-626cd1eeb3b5"
      },
      "execution_count": null,
      "outputs": [
        {
          "output_type": "stream",
          "name": "stdout",
          "text": [
            "Sir,please enter the distance in meter:160000\n",
            "Sir,please enter the time in second:7200\n",
            "80.0 km/h\n",
            "Velocity is okay. The car is ready!\n"
          ]
        }
      ]
    },
    {
      "cell_type": "code",
      "source": [
        "#15\n",
        "cgpa=float(input(\"Please enter the CGPA: \"))\n",
        "credits=int(input(\"Please enter the completed credits: \"))\n",
        "\n",
        "if credits>=30:\n",
        "  if (cgpa>=3.80 and cgpa<=3.89):\n",
        "    print(\"The student is eligible for 25 percent waiver\")\n",
        "  elif (cgpa>=3.90 and cgpa<=3.94):\n",
        "    print(\"The student is eligible for 50 percent waiver\")\n",
        "  elif (cgpa>=3.95 and cgpa<=3.99):\n",
        "    print(\"The student is eligible for 75 percent waiver\")\n",
        "  elif cgpa==4.00:\n",
        "    print(\"The student is eligible for 100 percent waiver\")\n",
        "  elif (cgpa<0 or cpga>4):\n",
        "    print(\"Please enter a valid cgpa\")  \n",
        "else:\n",
        "  print(\"The student is not eligible for waiver\")"
      ],
      "metadata": {
        "colab": {
          "base_uri": "https://localhost:8080/"
        },
        "id": "vGNE8cALmvPD",
        "outputId": "67778dff-77ac-4d07-aa19-90da104bacce"
      },
      "execution_count": 1,
      "outputs": [
        {
          "output_type": "stream",
          "name": "stdout",
          "text": [
            "Please enter the CGPA: 3.93\n",
            "Please enter the completed credits: 78\n",
            "The student is eligible for 50 percent waiver\n"
          ]
        }
      ]
    },
    {
      "cell_type": "code",
      "source": [
        "#16\n",
        "p = 5\n",
        "q = 6\n",
        "r = 9\n",
        "sum = 0\n",
        "if (p < 12):\n",
        "  print(r + 2)\n",
        "else:\n",
        "  print(r + p)\n",
        "if (q > 20):\n",
        "  print(r + 19)\n",
        "elif (q <= 6):\n",
        "  print(q + 3)\n",
        "else:\n",
        "  print(p + q + r)\n",
        "if (r > 15):\n",
        "  print(r)\n",
        "elif (r == 0):\n",
        "  print(p + q)\n",
        "else:\n",
        "  print(p)\n",
        "if (sum != 0):\n",
        "  print(3)\n",
        "else:\n",
        "  print(sum + 32)\n",
        "if (p>0 and r<10):\n",
        "  print(p+r)\n",
        "else:\n",
        "  print(p-r)"
      ],
      "metadata": {
        "colab": {
          "base_uri": "https://localhost:8080/"
        },
        "id": "Rs86ijldU3QJ",
        "outputId": "6f73e0b1-c83a-4ea6-88a9-3f45efc2e34e"
      },
      "execution_count": null,
      "outputs": [
        {
          "output_type": "stream",
          "name": "stdout",
          "text": [
            "11\n",
            "9\n",
            "5\n",
            "32\n",
            "14\n"
          ]
        }
      ]
    },
    {
      "cell_type": "code",
      "source": [
        "#17\n",
        "var1 = var2 = var3 = var4 = var5 = var6 = False\n",
        "result1 = False\n",
        "result2 = False\n",
        "result3 = False\n",
        "result4 = False\n",
        "result5 = False\n",
        "result6 = False\n",
        "result7 = False\n",
        "result8 = False\n",
        "result9 = False\n",
        "result10 = False\n",
        "var1 = 4 > 3 - 1\n",
        "var2 = var1 and False\n",
        "var3 = True\n",
        "var4 = False\n",
        "var5 = True\n",
        "var6 = var3 and False\n",
        "result1 = (var1 or var2) and (8 * 10 > 45)\n",
        "result2 = (var1 or var2) and (result1 and False)\n",
        "result3 = (var1 and result1) or result2\n",
        "result4 = (var1 or var2) or ((var3 and var1) and False)\n",
        "result5 = (var1 and var2) and (result3 or var1)\n",
        "result6 = ((var3 or var2) and not(result5)) or True\n",
        "result7 = (var4 and result1) and ((result1 and False) or True)\n",
        "result8 = ((var1 and result3) and (var5 or var6)) and True\n",
        "result9 = ((result2 and var2) or (result7 and var1)) and False\n",
        "result10 = not(var1 and True)\n",
        "print(result1)\n",
        "print(result2)\n",
        "print(result3)\n",
        "print(result4)\n",
        "print(result5)\n",
        "print(result6)\n",
        "print(result7)\n",
        "print(result8)\n",
        "print(result9)\n",
        "print(result10)"
      ],
      "metadata": {
        "colab": {
          "base_uri": "https://localhost:8080/"
        },
        "id": "1HhCe9wbYPSQ",
        "outputId": "e79cffd7-3654-44bd-cf87-b6ee322c223f"
      },
      "execution_count": null,
      "outputs": [
        {
          "output_type": "stream",
          "name": "stdout",
          "text": [
            "True\n",
            "False\n",
            "True\n",
            "True\n",
            "False\n",
            "True\n",
            "False\n",
            "True\n",
            "False\n",
            "False\n"
          ]
        }
      ]
    },
    {
      "cell_type": "code",
      "source": [
        "#18\n",
        "var1 = False\n",
        "var2 = False\n",
        "var3 = False\n",
        "var4 = False\n",
        "var5 = False\n",
        "var6 = False\n",
        "result1 = False\n",
        "result2 = False\n",
        "result3 = False\n",
        "result4 = False\n",
        "result5 = False\n",
        "result6 = False\n",
        "result7 = False\n",
        "result8 = False\n",
        "result9 = False\n",
        "result10 = False\n",
        "var1 = ((not True) or True) and False\n",
        "var2 = var1 and False\n",
        "var3 = True and not False\n",
        "var4 = False\n",
        "var5 = True\n",
        "var6 = var3 and False\n",
        "result1 = (var1 and var2) and (40 % 3) > 45 or (var5 and var6)\n",
        "result2 = (var1 or var2) or (result1 and False)\n",
        "result3 = (var1 and result1) or result2 or var5\n",
        "result4 = (var1 or var2) or ((var3 and var1) and False)\n",
        "result5 = (var1 and var2) and (result3 or var1)\n",
        "result6 = ((var3 or (not var2)) and (result5)) or True\n",
        "result7 = (var4 and result1) and ((result1 and False) or True)\n",
        "result8 = ((var1 and result3) and ((not var5) or var6)) and True\n",
        "result9 = ((result2 and var2) or ((not result7) and var1)) and not False\n",
        "result10 = not(var1 and True)\n",
        "print(result1)\n",
        "print(result2)\n",
        "print(result3)\n",
        "print(result4)\n",
        "print(result5)\n",
        "print(result6)\n",
        "print(result7)\n",
        "print(result8)\n",
        "print(result9)\n",
        "print(result10)"
      ],
      "metadata": {
        "colab": {
          "base_uri": "https://localhost:8080/"
        },
        "id": "hyyF6J5ab93d",
        "outputId": "3a689245-ad27-47ac-96ca-b664f3b7e9e4"
      },
      "execution_count": null,
      "outputs": [
        {
          "output_type": "stream",
          "name": "stdout",
          "text": [
            "False\n",
            "False\n",
            "True\n",
            "False\n",
            "False\n",
            "True\n",
            "False\n",
            "False\n",
            "False\n",
            "True\n"
          ]
        }
      ]
    },
    {
      "cell_type": "code",
      "source": [
        "#19\n",
        "var1 = var2 = var3 = var4 = var5 = var6 = False\n",
        "result1 = result2 = result3 = result4 = result5 = result6 = False\n",
        "result7 = result8 = result9 = result10 = False\n",
        "var1 = (not False or False) and True\n",
        "var2 = var1 and True\n",
        "var3 = False and not True\n",
        "var4 = True\n",
        "var5 = False\n",
        "var6 = var3 and True\n",
        "result1 = (var1 and var2) and ( 40 % 3 > 45) or (var5 and var6)\n",
        "result2 = (var1 or var2) or (result1 and False)\n",
        "result3 = (var1 and result1) or result2 or var5\n",
        "result4 = (var1 or var2) or ((var3 and var1) and False)\n",
        "result5 = (var1 and var2) and (result3 or var1)\n",
        "result6 = ((var3 or not var2) and (result5)) or True\n",
        "result7 = (var4 and result1) and ((result1 and False) or True)\n",
        "result8 = ((var1 and result3) and (not var5 or var6)) and True\n",
        "result9 = ((result2 and var2) or (not result7 and var1)) and not False\n",
        "result10 = not (var1 and True)\n",
        "print(result1)\n",
        "print(result2)\n",
        "print(result3)\n",
        "print(result4)\n",
        "print(result5)\n",
        "print(result6)\n",
        "print(result7)\n",
        "print(result8)\n",
        "print(result9)\n",
        "print(result10)"
      ],
      "metadata": {
        "colab": {
          "base_uri": "https://localhost:8080/"
        },
        "id": "kERF7iXTfnU0",
        "outputId": "91a19bee-af0b-432b-bae8-53c015e9a447"
      },
      "execution_count": null,
      "outputs": [
        {
          "output_type": "stream",
          "name": "stdout",
          "text": [
            "False\n",
            "True\n",
            "True\n",
            "True\n",
            "True\n",
            "True\n",
            "False\n",
            "True\n",
            "True\n",
            "False\n"
          ]
        }
      ]
    },
    {
      "cell_type": "markdown",
      "source": [
        "UNGRADED"
      ],
      "metadata": {
        "id": "pzZFWaGpm-05"
      }
    },
    {
      "cell_type": "code",
      "source": [
        "#20\n",
        "var=int(input(\"Please enter a number:\"))\n",
        "if var%2!=0 and var%5!=0:\n",
        "  print(var)\n",
        "else:\n",
        "  print(\"No\")"
      ],
      "metadata": {
        "colab": {
          "base_uri": "https://localhost:8080/"
        },
        "id": "V1QT080-4x6G",
        "outputId": "8ce7aafc-4b5b-44e4-8fc1-d9efd7d252fd"
      },
      "execution_count": 5,
      "outputs": [
        {
          "output_type": "stream",
          "name": "stdout",
          "text": [
            "Please enter a number:5\n",
            "No\n"
          ]
        }
      ]
    },
    {
      "cell_type": "code",
      "metadata": {
        "id": "mEjdHcbGGxx5",
        "colab": {
          "base_uri": "https://localhost:8080/"
        },
        "outputId": "29b1519c-590f-46d4-8b07-a13d76187069"
      },
      "source": [
        "#21\n",
        "var=int(input(\"Please,enter a value:\"))\n",
        "\n",
        "if (var%2==0 and var%5==0):\n",
        "  print(\"No\")\n",
        "else:\n",
        "  print(var)  "
      ],
      "execution_count": 4,
      "outputs": [
        {
          "output_type": "stream",
          "name": "stdout",
          "text": [
            "Please,enter a value:20\n",
            "No\n"
          ]
        }
      ]
    },
    {
      "cell_type": "code",
      "source": [
        "#22\n",
        "canvas=int(input(\"Please,enter the total amount of canvas:\"))\n",
        "paint=int(input(\"Please,enter the total amount of paint tubes:\"))\n",
        "price=(canvas*120)+(paint*75)\n",
        "\n",
        "if price>=0 and price<=299:\n",
        "  print(\"Privious total:\",price,\"\\nNew total after discount:\",(price-0))\n",
        "elif price>=300 and price<=499:\n",
        "  print(\"Privious total:\",price,\"\\nNew total after discount:\",(price-10))\n",
        "elif price>=500 and price<=749:\n",
        "  print(\"Privious total:\",price,\"\\nNew total after discount:\",(price-20))\n",
        "elif price>=750 and price<=999:\n",
        "  print(\"Privious total:\",price,\"\\nNew total after discount:\",(price-50))\n",
        "elif price>=1000:\n",
        "  print(\"Privious total:\",price,\"\\nNew total after discount:\",(price-150))"
      ],
      "metadata": {
        "id": "0C_5PeeyrDtk",
        "colab": {
          "base_uri": "https://localhost:8080/"
        },
        "outputId": "d86b83c1-e330-4961-89e7-7006af00f07d"
      },
      "execution_count": 6,
      "outputs": [
        {
          "output_type": "stream",
          "name": "stdout",
          "text": [
            "Please,enter the total amount of canvas:5\n",
            "Please,enter the total amount of paint tubes:8\n",
            "Privious total: 1200 \n",
            "New total after discount: 1050\n"
          ]
        }
      ]
    }
  ]
}